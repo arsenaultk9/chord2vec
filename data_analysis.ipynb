{
 "cells": [
  {
   "attachments": {},
   "cell_type": "markdown",
   "metadata": {},
   "source": [
    "# Data loading"
   ]
  },
  {
   "cell_type": "code",
   "execution_count": 1,
   "metadata": {},
   "outputs": [],
   "source": [
    "import pickle\n",
    "import numpy as np\n",
    "import pandas as pd\n",
    "import plotly.express as px\n",
    "\n",
    "with open('./data/training_data.pkl', 'rb') as file:\n",
    "        data = pickle.load(file, encoding=\"latin1\")\n",
    "\n",
    "vocabulary = data['chords_vocabulary']"
   ]
  },
  {
   "attachments": {},
   "cell_type": "markdown",
   "metadata": {},
   "source": [
    "# Get chord statistics"
   ]
  },
  {
   "cell_type": "code",
   "execution_count": 2,
   "metadata": {},
   "outputs": [],
   "source": [
    "all_chords = []\n",
    "\n",
    "for song in data['train']:\n",
    "    all_chords += song\n",
    "\n",
    "chord_counts_indices = dict()\n",
    "\n",
    "# chord count from index\n",
    "for chord in all_chords:\n",
    "    if chord not in chord_counts_indices:\n",
    "        chord_counts_indices[chord] = 0\n",
    "\n",
    "    chord_counts_indices[chord] += 1\n",
    "\n",
    "# chord count from name\n",
    "chord_counts = dict()\n",
    "\n",
    "for chord_index, count in chord_counts_indices.items():\n",
    "    chord = vocabulary.indexes_to_chords[chord_index]\n",
    "    chord_notes = ''.join(sorted(chord.note_suffixes))\n",
    "\n",
    "    chord_counts[chord_notes] = count\n",
    "\n",
    "chord_counts = dict(sorted(chord_counts.items(), key = lambda x: x[1], reverse = True))"
   ]
  },
  {
   "attachments": {},
   "cell_type": "markdown",
   "metadata": {},
   "source": [
    "# Visualize data"
   ]
  },
  {
   "cell_type": "code",
   "execution_count": 3,
   "metadata": {},
   "outputs": [
    {
     "name": "stdout",
     "output_type": "stream",
     "text": [
      "min value: 63\n",
      "mean value: 2183\n",
      "max value: 29554\n",
      "298/298 total chords\n"
     ]
    }
   ],
   "source": [
    "print(f'min value: {min(chord_counts.values())}')\n",
    "print(f'mean value: {int(sum(chord_counts.values()) / len(chord_counts.values())) }')\n",
    "print(f'max value: {max(chord_counts.values())}')\n",
    "\n",
    "chord_counts_df = pd.DataFrame(chord_counts.items(), columns=['chord', 'count'])\n",
    "chord_counts_df.head()\n",
    "print(f'{chord_counts_df.shape[0]}/{len(vocabulary.indexes_to_chords)} total chords')\n"
   ]
  },
  {
   "cell_type": "code",
   "execution_count": 4,
   "metadata": {},
   "outputs": [
    {
     "data": {
      "application/vnd.plotly.v1+json": {
       "config": {
        "plotlyServerURL": "https://plot.ly"
       },
       "data": [
        {
         "alignmentgroup": "True",
         "hovertemplate": "chord=%{x}<br>count=%{marker.color}<extra></extra>",
         "legendgroup": "",
         "marker": {
          "color": [
           29554,
           28739,
           25147,
           23289,
           21636,
           16787,
           16488,
           15182,
           13328,
           12212,
           11504,
           10689,
           9509,
           9301,
           9066,
           9020,
           9008,
           8587,
           8089,
           7876,
           7651,
           7518,
           7250,
           7080,
           7061,
           7017,
           6719,
           6718,
           6188,
           5766,
           5461,
           5267,
           5224,
           5191,
           5112,
           4824,
           4723,
           4479,
           4474,
           4435,
           4353,
           4144,
           4012,
           4000,
           3857,
           3234,
           3221,
           3027,
           2995,
           2972,
           2964,
           2928,
           2901,
           2886,
           2879,
           2859,
           2767,
           2739,
           2721,
           2674,
           2624,
           2595,
           2506,
           2498,
           2482,
           2429,
           2356,
           2352,
           2309,
           2304,
           2275,
           2176,
           1939,
           1852,
           1830,
           1829,
           1778,
           1767,
           1757,
           1755,
           1621,
           1592,
           1578,
           1536,
           1521,
           1500,
           1474,
           1460,
           1456,
           1446,
           1427,
           1402,
           1392,
           1366,
           1347,
           1343,
           1288,
           1280,
           1249,
           1228,
           1225,
           1223,
           1217,
           1217,
           1201,
           1193,
           1156,
           1137,
           1130,
           1120,
           1116,
           1113,
           1105,
           1104,
           1095,
           1090,
           1082,
           1073,
           1063,
           1053,
           1051,
           1031,
           1016,
           1014,
           1013,
           991,
           947,
           944,
           937,
           916,
           915,
           910,
           898,
           888,
           883,
           875,
           864,
           862,
           858,
           836,
           822,
           818,
           813,
           806,
           802,
           802,
           791,
           789,
           788,
           772,
           761,
           760,
           739,
           725,
           709,
           702,
           694,
           690,
           687,
           663,
           659,
           656,
           655,
           654,
           639,
           635,
           617,
           617,
           613,
           613,
           606,
           601,
           591,
           583,
           573,
           565,
           557,
           557,
           553,
           543,
           541,
           528,
           522,
           521,
           503,
           501,
           500,
           496,
           488,
           484,
           483,
           471,
           463,
           459,
           446,
           443,
           442,
           441,
           438,
           425,
           416,
           413,
           412,
           396,
           389,
           387,
           386,
           384,
           372,
           367,
           353,
           347,
           345,
           344,
           344,
           323,
           323,
           322,
           320,
           315,
           314,
           307,
           306,
           304,
           303,
           300,
           298,
           290,
           288,
           285,
           285,
           283,
           281,
           280,
           279,
           279,
           277,
           267,
           263,
           260,
           259,
           259,
           249,
           248,
           241,
           239,
           239,
           238,
           237,
           234,
           231,
           227,
           226,
           223,
           222,
           217,
           217,
           207,
           205,
           203,
           203,
           201,
           194,
           193,
           189,
           187,
           186,
           182,
           179,
           178,
           177,
           175,
           173,
           171,
           167,
           166,
           164,
           160,
           154,
           152,
           151,
           151,
           149,
           145,
           142,
           139,
           136,
           132,
           127,
           127,
           120,
           115,
           112,
           102,
           101,
           94,
           75,
           63
          ],
          "coloraxis": "coloraxis",
          "pattern": {
           "shape": ""
          }
         },
         "name": "",
         "offsetgroup": "",
         "orientation": "v",
         "showlegend": false,
         "textposition": "auto",
         "type": "bar",
         "x": [
          "BDG",
          "CEG",
          "ADF#",
          "ACF",
          "AC#E",
          "A#DF",
          "BEG#",
          "ACE",
          "BEG",
          "A#D#G",
          "ADF",
          "BD#F#",
          "BDF#",
          "ADG",
          "CDG",
          "A#DG",
          "CD#G#",
          "ADE",
          "C#FG#",
          "CD#G",
          "A#C#F#",
          "ABE",
          "AEG",
          "CFG",
          "ACG",
          "AC#F#",
          "ACD",
          "DEG",
          "BDE",
          "DFG",
          "BEF#",
          "CFG#",
          "ABD",
          "C#EG#",
          "A#CF",
          "A#CG",
          "CDF",
          "ABF#",
          "A#D#F#",
          "AEF#",
          "A#D#F",
          "BD#G#",
          "CD#F",
          "A#FG",
          "A#C#F",
          "BC#F#",
          "A#D#G#",
          "BCG",
          "A#CD#",
          "CDE",
          "C#D#G#",
          "C#EF#",
          "E",
          "BC#E",
          "CG",
          "DG",
          "BE",
          "C#F#G#",
          "ABG",
          "DF#G",
          "G",
          "D",
          "C",
          "A#FG#",
          "AE",
          "AFG",
          "AD",
          "DEF#",
          "D#FG#",
          "CEF",
          "A",
          "D#F#G#",
          "BF#G#",
          "A#C#D#",
          "A#C#G#",
          "BC#G#",
          "F",
          "AC#D",
          "A#CD",
          "CF",
          "ABC#",
          "BFG",
          "BDF",
          "DEG#",
          "C#D#F#",
          "AEG#",
          "BCE",
          "B",
          "ACF#",
          "CDF#",
          "AA#F",
          "CD",
          "ABC",
          "AEF",
          "A#",
          "D#FG",
          "A#F",
          "A#DD#",
          "A#CG#",
          "D#",
          "A#EG",
          "BD#E",
          "EG",
          "C#",
          "DE",
          "BF#",
          "DEF",
          "A#CE",
          "AC",
          "AF#G",
          "AC#G",
          "ACD#",
          "C#EG",
          "EFG",
          "G#",
          "CE",
          "AG",
          "EF#G",
          "EF#G#",
          "C#F#",
          "D#G#",
          "BF#G",
          "BDG#",
          "BCD",
          "AA#D",
          "F#",
          "C#D#F",
          "A#F#G#",
          "AB",
          "FG",
          "A#C#G",
          "C#G#",
          "AA#G",
          "BG",
          "DFG#",
          "DF",
          "A#D#",
          "BC#D#",
          "C#DF#",
          "BD",
          "D#GG#",
          "A#C",
          "CD#",
          "C#DE",
          "DD#G",
          "DF#",
          "CGG#",
          "CC#G#",
          "AD#F",
          "AF",
          "A#BF#",
          "AF#",
          "C#FF#",
          "CEG#",
          "BCF",
          "A#DG#",
          "CDD#",
          "ABD#",
          "A#G",
          "AD#F#",
          "EF#",
          "BD#G",
          "BC#D",
          "AA#C",
          "CD#F#",
          "BFG#",
          "FGG#",
          "A#C#E",
          "AC#G#",
          "CC#F",
          "A#DF#",
          "C#D#G",
          "AC#",
          "AF#G#",
          "AC#F",
          "A#G#",
          "C#E",
          "EG#",
          "A#D",
          "BC#",
          "D#EG#",
          "CF#G#",
          "A#C#",
          "DD#F",
          "ABG#",
          "CF#G",
          "A#EF#",
          "D#FF#",
          "C#D#",
          "BEF",
          "D#F#",
          "D#G",
          "BC",
          "A#CC#",
          "BC#F",
          "A#DE",
          "ABF",
          "D#F",
          "CEF#",
          "F#G",
          "EF",
          "BG#",
          "C#D#E",
          "A#GG#",
          "C#DG",
          "A#BD#",
          "FG#",
          "A#FF#",
          "D#EF#",
          "CG#",
          "CC#D#",
          "AD#G",
          "C#FG",
          "F#G#",
          "A#EF",
          "DF#G#",
          "FF#G",
          "A#CF#",
          "BC#G",
          "ADG#",
          "BCF#",
          "CDG#",
          "A#F#",
          "A#BC#",
          "A#BG#",
          "C#F",
          "CFF#",
          "A#EG#",
          "BD#",
          "A#BD",
          "AA#",
          "A#BG",
          "C#F#G",
          "AG#",
          "AGG#",
          "A#BE",
          "ADD#",
          "EGG#",
          "GG#",
          "AC#D#",
          "A#BF",
          "AA#E",
          "AD#E",
          "DGG#",
          "BD#F",
          "DD#",
          "CC#",
          "FF#",
          "BGG#",
          "ACC#",
          "FF#G#",
          "C#DF",
          "DFF#",
          "D#E",
          "CC#G",
          "ACG#",
          "AA#G#",
          "C#D",
          "BCD#",
          "A#B",
          "CC#F#",
          "DD#G#",
          "AD#G#",
          "AA#D#",
          "DD#E",
          "D#EF",
          "CC#D",
          "AFG#",
          "D#F#G",
          "EFG#",
          "A#F#G",
          "C#GG#",
          "CC#E",
          "CF#",
          "AFF#",
          "CD#E",
          "A#C#D",
          "D#EG",
          "AA#C#",
          "A#BC",
          "DD#F#",
          "EFF#",
          "C#DG#",
          "BFF#",
          "BCG#",
          "C#G",
          "A#D#E",
          "BDD#",
          "BF",
          "AA#F#",
          "F#GG#",
          "DG#",
          "AA#B",
          "AD#",
          "C#EF",
          "A#E",
          "BCC#",
          "C#DD#"
         ],
         "xaxis": "x",
         "y": [
          29554,
          28739,
          25147,
          23289,
          21636,
          16787,
          16488,
          15182,
          13328,
          12212,
          11504,
          10689,
          9509,
          9301,
          9066,
          9020,
          9008,
          8587,
          8089,
          7876,
          7651,
          7518,
          7250,
          7080,
          7061,
          7017,
          6719,
          6718,
          6188,
          5766,
          5461,
          5267,
          5224,
          5191,
          5112,
          4824,
          4723,
          4479,
          4474,
          4435,
          4353,
          4144,
          4012,
          4000,
          3857,
          3234,
          3221,
          3027,
          2995,
          2972,
          2964,
          2928,
          2901,
          2886,
          2879,
          2859,
          2767,
          2739,
          2721,
          2674,
          2624,
          2595,
          2506,
          2498,
          2482,
          2429,
          2356,
          2352,
          2309,
          2304,
          2275,
          2176,
          1939,
          1852,
          1830,
          1829,
          1778,
          1767,
          1757,
          1755,
          1621,
          1592,
          1578,
          1536,
          1521,
          1500,
          1474,
          1460,
          1456,
          1446,
          1427,
          1402,
          1392,
          1366,
          1347,
          1343,
          1288,
          1280,
          1249,
          1228,
          1225,
          1223,
          1217,
          1217,
          1201,
          1193,
          1156,
          1137,
          1130,
          1120,
          1116,
          1113,
          1105,
          1104,
          1095,
          1090,
          1082,
          1073,
          1063,
          1053,
          1051,
          1031,
          1016,
          1014,
          1013,
          991,
          947,
          944,
          937,
          916,
          915,
          910,
          898,
          888,
          883,
          875,
          864,
          862,
          858,
          836,
          822,
          818,
          813,
          806,
          802,
          802,
          791,
          789,
          788,
          772,
          761,
          760,
          739,
          725,
          709,
          702,
          694,
          690,
          687,
          663,
          659,
          656,
          655,
          654,
          639,
          635,
          617,
          617,
          613,
          613,
          606,
          601,
          591,
          583,
          573,
          565,
          557,
          557,
          553,
          543,
          541,
          528,
          522,
          521,
          503,
          501,
          500,
          496,
          488,
          484,
          483,
          471,
          463,
          459,
          446,
          443,
          442,
          441,
          438,
          425,
          416,
          413,
          412,
          396,
          389,
          387,
          386,
          384,
          372,
          367,
          353,
          347,
          345,
          344,
          344,
          323,
          323,
          322,
          320,
          315,
          314,
          307,
          306,
          304,
          303,
          300,
          298,
          290,
          288,
          285,
          285,
          283,
          281,
          280,
          279,
          279,
          277,
          267,
          263,
          260,
          259,
          259,
          249,
          248,
          241,
          239,
          239,
          238,
          237,
          234,
          231,
          227,
          226,
          223,
          222,
          217,
          217,
          207,
          205,
          203,
          203,
          201,
          194,
          193,
          189,
          187,
          186,
          182,
          179,
          178,
          177,
          175,
          173,
          171,
          167,
          166,
          164,
          160,
          154,
          152,
          151,
          151,
          149,
          145,
          142,
          139,
          136,
          132,
          127,
          127,
          120,
          115,
          112,
          102,
          101,
          94,
          75,
          63
         ],
         "yaxis": "y"
        }
       ],
       "layout": {
        "barmode": "relative",
        "coloraxis": {
         "colorbar": {
          "title": {
           "text": "count"
          }
         },
         "colorscale": [
          [
           0,
           "#0d0887"
          ],
          [
           0.1111111111111111,
           "#46039f"
          ],
          [
           0.2222222222222222,
           "#7201a8"
          ],
          [
           0.3333333333333333,
           "#9c179e"
          ],
          [
           0.4444444444444444,
           "#bd3786"
          ],
          [
           0.5555555555555556,
           "#d8576b"
          ],
          [
           0.6666666666666666,
           "#ed7953"
          ],
          [
           0.7777777777777778,
           "#fb9f3a"
          ],
          [
           0.8888888888888888,
           "#fdca26"
          ],
          [
           1,
           "#f0f921"
          ]
         ]
        },
        "legend": {
         "tracegroupgap": 0
        },
        "margin": {
         "t": 60
        },
        "template": {
         "data": {
          "bar": [
           {
            "error_x": {
             "color": "#2a3f5f"
            },
            "error_y": {
             "color": "#2a3f5f"
            },
            "marker": {
             "line": {
              "color": "#E5ECF6",
              "width": 0.5
             },
             "pattern": {
              "fillmode": "overlay",
              "size": 10,
              "solidity": 0.2
             }
            },
            "type": "bar"
           }
          ],
          "barpolar": [
           {
            "marker": {
             "line": {
              "color": "#E5ECF6",
              "width": 0.5
             },
             "pattern": {
              "fillmode": "overlay",
              "size": 10,
              "solidity": 0.2
             }
            },
            "type": "barpolar"
           }
          ],
          "carpet": [
           {
            "aaxis": {
             "endlinecolor": "#2a3f5f",
             "gridcolor": "white",
             "linecolor": "white",
             "minorgridcolor": "white",
             "startlinecolor": "#2a3f5f"
            },
            "baxis": {
             "endlinecolor": "#2a3f5f",
             "gridcolor": "white",
             "linecolor": "white",
             "minorgridcolor": "white",
             "startlinecolor": "#2a3f5f"
            },
            "type": "carpet"
           }
          ],
          "choropleth": [
           {
            "colorbar": {
             "outlinewidth": 0,
             "ticks": ""
            },
            "type": "choropleth"
           }
          ],
          "contour": [
           {
            "colorbar": {
             "outlinewidth": 0,
             "ticks": ""
            },
            "colorscale": [
             [
              0,
              "#0d0887"
             ],
             [
              0.1111111111111111,
              "#46039f"
             ],
             [
              0.2222222222222222,
              "#7201a8"
             ],
             [
              0.3333333333333333,
              "#9c179e"
             ],
             [
              0.4444444444444444,
              "#bd3786"
             ],
             [
              0.5555555555555556,
              "#d8576b"
             ],
             [
              0.6666666666666666,
              "#ed7953"
             ],
             [
              0.7777777777777778,
              "#fb9f3a"
             ],
             [
              0.8888888888888888,
              "#fdca26"
             ],
             [
              1,
              "#f0f921"
             ]
            ],
            "type": "contour"
           }
          ],
          "contourcarpet": [
           {
            "colorbar": {
             "outlinewidth": 0,
             "ticks": ""
            },
            "type": "contourcarpet"
           }
          ],
          "heatmap": [
           {
            "colorbar": {
             "outlinewidth": 0,
             "ticks": ""
            },
            "colorscale": [
             [
              0,
              "#0d0887"
             ],
             [
              0.1111111111111111,
              "#46039f"
             ],
             [
              0.2222222222222222,
              "#7201a8"
             ],
             [
              0.3333333333333333,
              "#9c179e"
             ],
             [
              0.4444444444444444,
              "#bd3786"
             ],
             [
              0.5555555555555556,
              "#d8576b"
             ],
             [
              0.6666666666666666,
              "#ed7953"
             ],
             [
              0.7777777777777778,
              "#fb9f3a"
             ],
             [
              0.8888888888888888,
              "#fdca26"
             ],
             [
              1,
              "#f0f921"
             ]
            ],
            "type": "heatmap"
           }
          ],
          "heatmapgl": [
           {
            "colorbar": {
             "outlinewidth": 0,
             "ticks": ""
            },
            "colorscale": [
             [
              0,
              "#0d0887"
             ],
             [
              0.1111111111111111,
              "#46039f"
             ],
             [
              0.2222222222222222,
              "#7201a8"
             ],
             [
              0.3333333333333333,
              "#9c179e"
             ],
             [
              0.4444444444444444,
              "#bd3786"
             ],
             [
              0.5555555555555556,
              "#d8576b"
             ],
             [
              0.6666666666666666,
              "#ed7953"
             ],
             [
              0.7777777777777778,
              "#fb9f3a"
             ],
             [
              0.8888888888888888,
              "#fdca26"
             ],
             [
              1,
              "#f0f921"
             ]
            ],
            "type": "heatmapgl"
           }
          ],
          "histogram": [
           {
            "marker": {
             "pattern": {
              "fillmode": "overlay",
              "size": 10,
              "solidity": 0.2
             }
            },
            "type": "histogram"
           }
          ],
          "histogram2d": [
           {
            "colorbar": {
             "outlinewidth": 0,
             "ticks": ""
            },
            "colorscale": [
             [
              0,
              "#0d0887"
             ],
             [
              0.1111111111111111,
              "#46039f"
             ],
             [
              0.2222222222222222,
              "#7201a8"
             ],
             [
              0.3333333333333333,
              "#9c179e"
             ],
             [
              0.4444444444444444,
              "#bd3786"
             ],
             [
              0.5555555555555556,
              "#d8576b"
             ],
             [
              0.6666666666666666,
              "#ed7953"
             ],
             [
              0.7777777777777778,
              "#fb9f3a"
             ],
             [
              0.8888888888888888,
              "#fdca26"
             ],
             [
              1,
              "#f0f921"
             ]
            ],
            "type": "histogram2d"
           }
          ],
          "histogram2dcontour": [
           {
            "colorbar": {
             "outlinewidth": 0,
             "ticks": ""
            },
            "colorscale": [
             [
              0,
              "#0d0887"
             ],
             [
              0.1111111111111111,
              "#46039f"
             ],
             [
              0.2222222222222222,
              "#7201a8"
             ],
             [
              0.3333333333333333,
              "#9c179e"
             ],
             [
              0.4444444444444444,
              "#bd3786"
             ],
             [
              0.5555555555555556,
              "#d8576b"
             ],
             [
              0.6666666666666666,
              "#ed7953"
             ],
             [
              0.7777777777777778,
              "#fb9f3a"
             ],
             [
              0.8888888888888888,
              "#fdca26"
             ],
             [
              1,
              "#f0f921"
             ]
            ],
            "type": "histogram2dcontour"
           }
          ],
          "mesh3d": [
           {
            "colorbar": {
             "outlinewidth": 0,
             "ticks": ""
            },
            "type": "mesh3d"
           }
          ],
          "parcoords": [
           {
            "line": {
             "colorbar": {
              "outlinewidth": 0,
              "ticks": ""
             }
            },
            "type": "parcoords"
           }
          ],
          "pie": [
           {
            "automargin": true,
            "type": "pie"
           }
          ],
          "scatter": [
           {
            "fillpattern": {
             "fillmode": "overlay",
             "size": 10,
             "solidity": 0.2
            },
            "type": "scatter"
           }
          ],
          "scatter3d": [
           {
            "line": {
             "colorbar": {
              "outlinewidth": 0,
              "ticks": ""
             }
            },
            "marker": {
             "colorbar": {
              "outlinewidth": 0,
              "ticks": ""
             }
            },
            "type": "scatter3d"
           }
          ],
          "scattercarpet": [
           {
            "marker": {
             "colorbar": {
              "outlinewidth": 0,
              "ticks": ""
             }
            },
            "type": "scattercarpet"
           }
          ],
          "scattergeo": [
           {
            "marker": {
             "colorbar": {
              "outlinewidth": 0,
              "ticks": ""
             }
            },
            "type": "scattergeo"
           }
          ],
          "scattergl": [
           {
            "marker": {
             "colorbar": {
              "outlinewidth": 0,
              "ticks": ""
             }
            },
            "type": "scattergl"
           }
          ],
          "scattermapbox": [
           {
            "marker": {
             "colorbar": {
              "outlinewidth": 0,
              "ticks": ""
             }
            },
            "type": "scattermapbox"
           }
          ],
          "scatterpolar": [
           {
            "marker": {
             "colorbar": {
              "outlinewidth": 0,
              "ticks": ""
             }
            },
            "type": "scatterpolar"
           }
          ],
          "scatterpolargl": [
           {
            "marker": {
             "colorbar": {
              "outlinewidth": 0,
              "ticks": ""
             }
            },
            "type": "scatterpolargl"
           }
          ],
          "scatterternary": [
           {
            "marker": {
             "colorbar": {
              "outlinewidth": 0,
              "ticks": ""
             }
            },
            "type": "scatterternary"
           }
          ],
          "surface": [
           {
            "colorbar": {
             "outlinewidth": 0,
             "ticks": ""
            },
            "colorscale": [
             [
              0,
              "#0d0887"
             ],
             [
              0.1111111111111111,
              "#46039f"
             ],
             [
              0.2222222222222222,
              "#7201a8"
             ],
             [
              0.3333333333333333,
              "#9c179e"
             ],
             [
              0.4444444444444444,
              "#bd3786"
             ],
             [
              0.5555555555555556,
              "#d8576b"
             ],
             [
              0.6666666666666666,
              "#ed7953"
             ],
             [
              0.7777777777777778,
              "#fb9f3a"
             ],
             [
              0.8888888888888888,
              "#fdca26"
             ],
             [
              1,
              "#f0f921"
             ]
            ],
            "type": "surface"
           }
          ],
          "table": [
           {
            "cells": {
             "fill": {
              "color": "#EBF0F8"
             },
             "line": {
              "color": "white"
             }
            },
            "header": {
             "fill": {
              "color": "#C8D4E3"
             },
             "line": {
              "color": "white"
             }
            },
            "type": "table"
           }
          ]
         },
         "layout": {
          "annotationdefaults": {
           "arrowcolor": "#2a3f5f",
           "arrowhead": 0,
           "arrowwidth": 1
          },
          "autotypenumbers": "strict",
          "coloraxis": {
           "colorbar": {
            "outlinewidth": 0,
            "ticks": ""
           }
          },
          "colorscale": {
           "diverging": [
            [
             0,
             "#8e0152"
            ],
            [
             0.1,
             "#c51b7d"
            ],
            [
             0.2,
             "#de77ae"
            ],
            [
             0.3,
             "#f1b6da"
            ],
            [
             0.4,
             "#fde0ef"
            ],
            [
             0.5,
             "#f7f7f7"
            ],
            [
             0.6,
             "#e6f5d0"
            ],
            [
             0.7,
             "#b8e186"
            ],
            [
             0.8,
             "#7fbc41"
            ],
            [
             0.9,
             "#4d9221"
            ],
            [
             1,
             "#276419"
            ]
           ],
           "sequential": [
            [
             0,
             "#0d0887"
            ],
            [
             0.1111111111111111,
             "#46039f"
            ],
            [
             0.2222222222222222,
             "#7201a8"
            ],
            [
             0.3333333333333333,
             "#9c179e"
            ],
            [
             0.4444444444444444,
             "#bd3786"
            ],
            [
             0.5555555555555556,
             "#d8576b"
            ],
            [
             0.6666666666666666,
             "#ed7953"
            ],
            [
             0.7777777777777778,
             "#fb9f3a"
            ],
            [
             0.8888888888888888,
             "#fdca26"
            ],
            [
             1,
             "#f0f921"
            ]
           ],
           "sequentialminus": [
            [
             0,
             "#0d0887"
            ],
            [
             0.1111111111111111,
             "#46039f"
            ],
            [
             0.2222222222222222,
             "#7201a8"
            ],
            [
             0.3333333333333333,
             "#9c179e"
            ],
            [
             0.4444444444444444,
             "#bd3786"
            ],
            [
             0.5555555555555556,
             "#d8576b"
            ],
            [
             0.6666666666666666,
             "#ed7953"
            ],
            [
             0.7777777777777778,
             "#fb9f3a"
            ],
            [
             0.8888888888888888,
             "#fdca26"
            ],
            [
             1,
             "#f0f921"
            ]
           ]
          },
          "colorway": [
           "#636efa",
           "#EF553B",
           "#00cc96",
           "#ab63fa",
           "#FFA15A",
           "#19d3f3",
           "#FF6692",
           "#B6E880",
           "#FF97FF",
           "#FECB52"
          ],
          "font": {
           "color": "#2a3f5f"
          },
          "geo": {
           "bgcolor": "white",
           "lakecolor": "white",
           "landcolor": "#E5ECF6",
           "showlakes": true,
           "showland": true,
           "subunitcolor": "white"
          },
          "hoverlabel": {
           "align": "left"
          },
          "hovermode": "closest",
          "mapbox": {
           "style": "light"
          },
          "paper_bgcolor": "white",
          "plot_bgcolor": "#E5ECF6",
          "polar": {
           "angularaxis": {
            "gridcolor": "white",
            "linecolor": "white",
            "ticks": ""
           },
           "bgcolor": "#E5ECF6",
           "radialaxis": {
            "gridcolor": "white",
            "linecolor": "white",
            "ticks": ""
           }
          },
          "scene": {
           "xaxis": {
            "backgroundcolor": "#E5ECF6",
            "gridcolor": "white",
            "gridwidth": 2,
            "linecolor": "white",
            "showbackground": true,
            "ticks": "",
            "zerolinecolor": "white"
           },
           "yaxis": {
            "backgroundcolor": "#E5ECF6",
            "gridcolor": "white",
            "gridwidth": 2,
            "linecolor": "white",
            "showbackground": true,
            "ticks": "",
            "zerolinecolor": "white"
           },
           "zaxis": {
            "backgroundcolor": "#E5ECF6",
            "gridcolor": "white",
            "gridwidth": 2,
            "linecolor": "white",
            "showbackground": true,
            "ticks": "",
            "zerolinecolor": "white"
           }
          },
          "shapedefaults": {
           "line": {
            "color": "#2a3f5f"
           }
          },
          "ternary": {
           "aaxis": {
            "gridcolor": "white",
            "linecolor": "white",
            "ticks": ""
           },
           "baxis": {
            "gridcolor": "white",
            "linecolor": "white",
            "ticks": ""
           },
           "bgcolor": "#E5ECF6",
           "caxis": {
            "gridcolor": "white",
            "linecolor": "white",
            "ticks": ""
           }
          },
          "title": {
           "x": 0.05
          },
          "xaxis": {
           "automargin": true,
           "gridcolor": "white",
           "linecolor": "white",
           "ticks": "",
           "title": {
            "standoff": 15
           },
           "zerolinecolor": "white",
           "zerolinewidth": 2
          },
          "yaxis": {
           "automargin": true,
           "gridcolor": "white",
           "linecolor": "white",
           "ticks": "",
           "title": {
            "standoff": 15
           },
           "zerolinecolor": "white",
           "zerolinewidth": 2
          }
         }
        },
        "xaxis": {
         "anchor": "y",
         "domain": [
          0,
          1
         ],
         "title": {
          "text": "chord"
         }
        },
        "yaxis": {
         "anchor": "x",
         "domain": [
          0,
          1
         ],
         "title": {
          "text": "count"
         }
        }
       }
      }
     },
     "metadata": {},
     "output_type": "display_data"
    }
   ],
   "source": [
    "fig = px.bar(chord_counts_df, x='chord', y='count', color='count')\n",
    "fig.show()"
   ]
  }
 ],
 "metadata": {
  "kernelspec": {
   "display_name": "Python 3",
   "language": "python",
   "name": "python3"
  },
  "language_info": {
   "codemirror_mode": {
    "name": "ipython",
    "version": 3
   },
   "file_extension": ".py",
   "mimetype": "text/x-python",
   "name": "python",
   "nbconvert_exporter": "python",
   "pygments_lexer": "ipython3",
   "version": "3.10.6"
  },
  "orig_nbformat": 4,
  "vscode": {
   "interpreter": {
    "hash": "bb1cd77efc362c1067be37b2db7d4159e0c7f871d479a5e23c1f1747c4472ddf"
   }
  }
 },
 "nbformat": 4,
 "nbformat_minor": 2
}
