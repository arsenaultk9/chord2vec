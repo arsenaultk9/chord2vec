{
 "cells": [
  {
   "attachments": {},
   "cell_type": "markdown",
   "metadata": {},
   "source": [
    "# Data loading"
   ]
  },
  {
   "cell_type": "code",
   "execution_count": 33,
   "metadata": {},
   "outputs": [],
   "source": [
    "import pickle\n",
    "import numpy as np\n",
    "import pandas as pd\n",
    "import plotly.express as px\n",
    "\n",
    "with open('./data/training_data.pkl', 'rb') as file:\n",
    "        data = pickle.load(file, encoding=\"latin1\")\n",
    "\n",
    "vocabulary = data['chords_vocabulary']"
   ]
  },
  {
   "attachments": {},
   "cell_type": "markdown",
   "metadata": {},
   "source": [
    "# Get chord statistics"
   ]
  },
  {
   "cell_type": "code",
   "execution_count": 48,
   "metadata": {},
   "outputs": [],
   "source": [
    "all_chords = []\n",
    "\n",
    "for song in data['train']:\n",
    "    all_chords += song\n",
    "\n",
    "chord_counts_indices = dict()\n",
    "\n",
    "# chord count from index\n",
    "for chord in all_chords:\n",
    "    if chord not in chord_counts_indices:\n",
    "        chord_counts_indices[chord] = 0\n",
    "\n",
    "    chord_counts_indices[chord] += 1\n",
    "\n",
    "# chord count from name\n",
    "chord_counts = dict()\n",
    "\n",
    "for chord_index, count in chord_counts_indices.items():\n",
    "    chord = vocabulary.indexes_to_chords[chord_index]\n",
    "    chord_notes = ''.join(sorted(chord.note_suffixes))\n",
    "\n",
    "    chord_counts[chord_notes] = count\n",
    "\n",
    "chord_counts = dict(sorted(chord_counts.items(), key = lambda x: x[1], reverse = True))"
   ]
  },
  {
   "attachments": {},
   "cell_type": "markdown",
   "metadata": {},
   "source": [
    "# Visualize data"
   ]
  },
  {
   "cell_type": "code",
   "execution_count": 51,
   "metadata": {},
   "outputs": [
    {
     "name": "stdout",
     "output_type": "stream",
     "text": [
      "min value: 2\n",
      "mean value: 134\n",
      "max value: 1236\n",
      "298/298 total chords\n"
     ]
    }
   ],
   "source": [
    "print(f'min value: {min(chord_counts.values())}')\n",
    "print(f'mean value: {int(sum(chord_counts.values()) / len(chord_counts.values())) }')\n",
    "print(f'max value: {max(chord_counts.values())}')\n",
    "\n",
    "chord_counts_df = pd.DataFrame(chord_counts.items(), columns=['chord', 'count'])\n",
    "chord_counts_df.head()\n",
    "print(f'{chord_counts_df.shape[0]}/{len(vocabulary.indexes_to_chords)} total chords')\n"
   ]
  },
  {
   "cell_type": "code",
   "execution_count": 53,
   "metadata": {},
   "outputs": [
    {
     "data": {
      "application/vnd.plotly.v1+json": {
       "config": {
        "plotlyServerURL": "https://plot.ly"
       },
       "data": [
        {
         "alignmentgroup": "True",
         "hovertemplate": "chord=%{x}<br>count=%{marker.color}<extra></extra>",
         "legendgroup": "",
         "marker": {
          "color": [
           1236,
           1171,
           1112,
           1099,
           1086,
           832,
           713,
           699,
           694,
           634,
           597,
           554,
           533,
           509,
           506,
           498,
           498,
           493,
           476,
           475,
           425,
           421,
           418,
           400,
           390,
           384,
           380,
           379,
           361,
           342,
           333,
           323,
           316,
           309,
           286,
           279,
           262,
           261,
           260,
           260,
           244,
           237,
           235,
           228,
           225,
           222,
           219,
           215,
           210,
           207,
           206,
           205,
           199,
           189,
           176,
           174,
           171,
           169,
           169,
           165,
           164,
           159,
           159,
           158,
           154,
           152,
           151,
           151,
           150,
           150,
           149,
           147,
           147,
           146,
           145,
           140,
           138,
           137,
           135,
           133,
           133,
           133,
           133,
           132,
           131,
           124,
           122,
           119,
           119,
           118,
           117,
           117,
           116,
           113,
           112,
           111,
           111,
           109,
           107,
           106,
           104,
           104,
           103,
           102,
           102,
           102,
           102,
           98,
           96,
           96,
           94,
           94,
           93,
           92,
           91,
           91,
           91,
           91,
           91,
           90,
           90,
           88,
           88,
           85,
           85,
           84,
           84,
           83,
           78,
           78,
           78,
           77,
           77,
           77,
           75,
           74,
           73,
           73,
           73,
           73,
           73,
           73,
           71,
           69,
           69,
           69,
           69,
           68,
           68,
           68,
           67,
           67,
           66,
           65,
           65,
           64,
           63,
           63,
           63,
           61,
           61,
           60,
           60,
           60,
           59,
           59,
           58,
           58,
           56,
           56,
           56,
           56,
           56,
           56,
           56,
           56,
           55,
           55,
           55,
           55,
           54,
           54,
           53,
           53,
           52,
           52,
           52,
           51,
           50,
           50,
           49,
           48,
           47,
           47,
           47,
           47,
           46,
           45,
           45,
           44,
           44,
           44,
           44,
           43,
           42,
           41,
           40,
           40,
           40,
           39,
           39,
           39,
           37,
           37,
           36,
           35,
           35,
           33,
           33,
           33,
           33,
           32,
           32,
           31,
           31,
           31,
           30,
           30,
           30,
           30,
           30,
           30,
           29,
           29,
           29,
           28,
           28,
           28,
           28,
           28,
           27,
           27,
           27,
           27,
           27,
           27,
           27,
           27,
           26,
           26,
           25,
           25,
           25,
           25,
           25,
           25,
           24,
           24,
           23,
           23,
           23,
           23,
           23,
           22,
           21,
           20,
           20,
           20,
           19,
           19,
           19,
           18,
           17,
           16,
           15,
           15,
           15,
           15,
           14,
           14,
           13,
           13,
           13,
           12,
           12,
           11,
           11,
           11,
           11,
           10,
           9,
           9,
           7,
           6,
           6,
           5,
           5,
           2
          ],
          "coloraxis": "coloraxis",
          "pattern": {
           "shape": ""
          }
         },
         "name": "",
         "offsetgroup": "",
         "orientation": "v",
         "showlegend": false,
         "textposition": "auto",
         "type": "bar",
         "x": [
          "ACE",
          "CEG",
          "ACF",
          "ADF",
          "BDG",
          "BEG",
          "BDF#",
          "ADF#",
          "A#DF",
          "A#DG",
          "CD#G",
          "CFG#",
          "ADE",
          "ADG",
          "CFG",
          "AEG",
          "ACD",
          "AC#E",
          "AC#F#",
          "A#D#G",
          "DFG",
          "BDE",
          "ABE",
          "CD#G#",
          "CDG",
          "CDF",
          "ACG",
          "BEG#",
          "A#C#F",
          "A#CF",
          "C#FG#",
          "A#C#F#",
          "DEG",
          "A#CG",
          "C#EG#",
          "BD#F#",
          "ABD",
          "A#D#F",
          "CDE",
          "CD#F",
          "BEF#",
          "AFG",
          "AE",
          "D#FG#",
          "ABF#",
          "BD#G#",
          "AEF#",
          "CG",
          "A#CD#",
          "A#D#F#",
          "BDF",
          "A#D#G#",
          "A#FG",
          "ACF#",
          "ACD#",
          "A#FG#",
          "BCG",
          "CF",
          "DG",
          "BC#G#",
          "DEF",
          "AEF",
          "BC#F#",
          "G",
          "A",
          "A#C#D#",
          "ABG",
          "AF#",
          "BE",
          "BC#E",
          "AA#D",
          "AD",
          "C",
          "E",
          "DEF#",
          "CEF",
          "ABC",
          "BF#G#",
          "A#CD",
          "D#F#G#",
          "D#FG",
          "C#EF#",
          "BCE",
          "C#F#G#",
          "BD#G",
          "A#DD#",
          "BD",
          "C#D#G#",
          "F",
          "AC",
          "AA#G",
          "CDD#",
          "FGG#",
          "CD#F#",
          "D",
          "EF#G",
          "EG",
          "BG",
          "AA#F",
          "BFG",
          "F#",
          "DF#G",
          "BDG#",
          "C#D#F#",
          "ADD#",
          "EFG",
          "DFG#",
          "BCF",
          "CDF#",
          "CD",
          "BCD",
          "A#CC#",
          "A#C#G",
          "FG",
          "A#C#G#",
          "CEG#",
          "D#",
          "A#G",
          "CC#F",
          "CGG#",
          "BF#G",
          "AC#D",
          "A#EG",
          "B",
          "C#",
          "A#CG#",
          "CE",
          "AG",
          "BF#",
          "BC#D",
          "DF#",
          "C#DF#",
          "AEG#",
          "BC#G",
          "DE",
          "AF",
          "BC#D#",
          "DD#G",
          "C#EG",
          "C#FF#",
          "AC#G",
          "AC#",
          "A#CF#",
          "D#GG#",
          "A#F",
          "ABD#",
          "BFG#",
          "CEF#",
          "C#G#",
          "DD#F",
          "BG#",
          "A#C#E",
          "EF#G#",
          "BD#E",
          "CDG#",
          "D#EG#",
          "EG#",
          "AD#F#",
          "A#FF#",
          "ABC#",
          "A#DE",
          "C#D#E",
          "A#",
          "BC#F",
          "CF#G",
          "AC#F",
          "AF#G",
          "AD#E",
          "C#D#F",
          "AF#G#",
          "CC#G#",
          "AA#C",
          "EF#",
          "D#FF#",
          "ABF",
          "A#CE",
          "A#DF#",
          "C#E",
          "C#F#",
          "BC",
          "A#D",
          "DF",
          "A#EF",
          "A#D#",
          "A#BF#",
          "A#D#E",
          "CFF#",
          "ABG#",
          "D#G#",
          "CC#D#",
          "CG#",
          "AD#F",
          "A#GG#",
          "AD#G",
          "CF#G#",
          "A#F#G#",
          "AC#G#",
          "D#G",
          "AB",
          "CD#",
          "G#",
          "BCF#",
          "A#BD",
          "ADG#",
          "AA#",
          "CC#G",
          "C#FG",
          "FF#",
          "A#C",
          "A#EG#",
          "C#D",
          "DD#",
          "A#BG#",
          "CD#E",
          "CF#",
          "C#F#G",
          "AC#D#",
          "C#DE",
          "D#EF#",
          "ACG#",
          "C#DG",
          "A#F#",
          "BEF",
          "DG#",
          "DD#E",
          "DD#G#",
          "A#BG",
          "A#BD#",
          "BFF#",
          "F#G#",
          "A#E",
          "A#BC#",
          "BD#",
          "CC#",
          "AD#",
          "BD#F",
          "AG#",
          "BCG#",
          "DEG#",
          "C#GG#",
          "BC#",
          "D#F",
          "A#EF#",
          "CC#F#",
          "FF#G#",
          "EFF#",
          "BCD#",
          "DD#F#",
          "C#F",
          "DFF#",
          "A#BC",
          "C#D#G",
          "DGG#",
          "A#C#",
          "AFG#",
          "AA#C#",
          "A#BE",
          "FG#",
          "AA#E",
          "D#E",
          "A#BF",
          "CC#D",
          "EF",
          "AFF#",
          "FF#G",
          "CC#E",
          "A#DG#",
          "BF",
          "ACC#",
          "A#C#D",
          "C#G",
          "C#D#",
          "AA#B",
          "F#GG#",
          "C#DF",
          "F#G",
          "BGG#",
          "DF#G#",
          "A#F#G",
          "AA#D#",
          "GG#",
          "D#F#",
          "A#G#",
          "EGG#",
          "D#EF",
          "C#DD#",
          "AGG#",
          "D#F#G",
          "EFG#",
          "AA#F#",
          "D#EG",
          "BDD#",
          "AD#G#",
          "BCC#",
          "A#B",
          "AA#G#",
          "C#DG#",
          "C#EF"
         ],
         "xaxis": "x",
         "y": [
          1236,
          1171,
          1112,
          1099,
          1086,
          832,
          713,
          699,
          694,
          634,
          597,
          554,
          533,
          509,
          506,
          498,
          498,
          493,
          476,
          475,
          425,
          421,
          418,
          400,
          390,
          384,
          380,
          379,
          361,
          342,
          333,
          323,
          316,
          309,
          286,
          279,
          262,
          261,
          260,
          260,
          244,
          237,
          235,
          228,
          225,
          222,
          219,
          215,
          210,
          207,
          206,
          205,
          199,
          189,
          176,
          174,
          171,
          169,
          169,
          165,
          164,
          159,
          159,
          158,
          154,
          152,
          151,
          151,
          150,
          150,
          149,
          147,
          147,
          146,
          145,
          140,
          138,
          137,
          135,
          133,
          133,
          133,
          133,
          132,
          131,
          124,
          122,
          119,
          119,
          118,
          117,
          117,
          116,
          113,
          112,
          111,
          111,
          109,
          107,
          106,
          104,
          104,
          103,
          102,
          102,
          102,
          102,
          98,
          96,
          96,
          94,
          94,
          93,
          92,
          91,
          91,
          91,
          91,
          91,
          90,
          90,
          88,
          88,
          85,
          85,
          84,
          84,
          83,
          78,
          78,
          78,
          77,
          77,
          77,
          75,
          74,
          73,
          73,
          73,
          73,
          73,
          73,
          71,
          69,
          69,
          69,
          69,
          68,
          68,
          68,
          67,
          67,
          66,
          65,
          65,
          64,
          63,
          63,
          63,
          61,
          61,
          60,
          60,
          60,
          59,
          59,
          58,
          58,
          56,
          56,
          56,
          56,
          56,
          56,
          56,
          56,
          55,
          55,
          55,
          55,
          54,
          54,
          53,
          53,
          52,
          52,
          52,
          51,
          50,
          50,
          49,
          48,
          47,
          47,
          47,
          47,
          46,
          45,
          45,
          44,
          44,
          44,
          44,
          43,
          42,
          41,
          40,
          40,
          40,
          39,
          39,
          39,
          37,
          37,
          36,
          35,
          35,
          33,
          33,
          33,
          33,
          32,
          32,
          31,
          31,
          31,
          30,
          30,
          30,
          30,
          30,
          30,
          29,
          29,
          29,
          28,
          28,
          28,
          28,
          28,
          27,
          27,
          27,
          27,
          27,
          27,
          27,
          27,
          26,
          26,
          25,
          25,
          25,
          25,
          25,
          25,
          24,
          24,
          23,
          23,
          23,
          23,
          23,
          22,
          21,
          20,
          20,
          20,
          19,
          19,
          19,
          18,
          17,
          16,
          15,
          15,
          15,
          15,
          14,
          14,
          13,
          13,
          13,
          12,
          12,
          11,
          11,
          11,
          11,
          10,
          9,
          9,
          7,
          6,
          6,
          5,
          5,
          2
         ],
         "yaxis": "y"
        }
       ],
       "layout": {
        "barmode": "relative",
        "coloraxis": {
         "colorbar": {
          "title": {
           "text": "count"
          }
         },
         "colorscale": [
          [
           0,
           "#0d0887"
          ],
          [
           0.1111111111111111,
           "#46039f"
          ],
          [
           0.2222222222222222,
           "#7201a8"
          ],
          [
           0.3333333333333333,
           "#9c179e"
          ],
          [
           0.4444444444444444,
           "#bd3786"
          ],
          [
           0.5555555555555556,
           "#d8576b"
          ],
          [
           0.6666666666666666,
           "#ed7953"
          ],
          [
           0.7777777777777778,
           "#fb9f3a"
          ],
          [
           0.8888888888888888,
           "#fdca26"
          ],
          [
           1,
           "#f0f921"
          ]
         ]
        },
        "legend": {
         "tracegroupgap": 0
        },
        "margin": {
         "t": 60
        },
        "template": {
         "data": {
          "bar": [
           {
            "error_x": {
             "color": "#2a3f5f"
            },
            "error_y": {
             "color": "#2a3f5f"
            },
            "marker": {
             "line": {
              "color": "#E5ECF6",
              "width": 0.5
             },
             "pattern": {
              "fillmode": "overlay",
              "size": 10,
              "solidity": 0.2
             }
            },
            "type": "bar"
           }
          ],
          "barpolar": [
           {
            "marker": {
             "line": {
              "color": "#E5ECF6",
              "width": 0.5
             },
             "pattern": {
              "fillmode": "overlay",
              "size": 10,
              "solidity": 0.2
             }
            },
            "type": "barpolar"
           }
          ],
          "carpet": [
           {
            "aaxis": {
             "endlinecolor": "#2a3f5f",
             "gridcolor": "white",
             "linecolor": "white",
             "minorgridcolor": "white",
             "startlinecolor": "#2a3f5f"
            },
            "baxis": {
             "endlinecolor": "#2a3f5f",
             "gridcolor": "white",
             "linecolor": "white",
             "minorgridcolor": "white",
             "startlinecolor": "#2a3f5f"
            },
            "type": "carpet"
           }
          ],
          "choropleth": [
           {
            "colorbar": {
             "outlinewidth": 0,
             "ticks": ""
            },
            "type": "choropleth"
           }
          ],
          "contour": [
           {
            "colorbar": {
             "outlinewidth": 0,
             "ticks": ""
            },
            "colorscale": [
             [
              0,
              "#0d0887"
             ],
             [
              0.1111111111111111,
              "#46039f"
             ],
             [
              0.2222222222222222,
              "#7201a8"
             ],
             [
              0.3333333333333333,
              "#9c179e"
             ],
             [
              0.4444444444444444,
              "#bd3786"
             ],
             [
              0.5555555555555556,
              "#d8576b"
             ],
             [
              0.6666666666666666,
              "#ed7953"
             ],
             [
              0.7777777777777778,
              "#fb9f3a"
             ],
             [
              0.8888888888888888,
              "#fdca26"
             ],
             [
              1,
              "#f0f921"
             ]
            ],
            "type": "contour"
           }
          ],
          "contourcarpet": [
           {
            "colorbar": {
             "outlinewidth": 0,
             "ticks": ""
            },
            "type": "contourcarpet"
           }
          ],
          "heatmap": [
           {
            "colorbar": {
             "outlinewidth": 0,
             "ticks": ""
            },
            "colorscale": [
             [
              0,
              "#0d0887"
             ],
             [
              0.1111111111111111,
              "#46039f"
             ],
             [
              0.2222222222222222,
              "#7201a8"
             ],
             [
              0.3333333333333333,
              "#9c179e"
             ],
             [
              0.4444444444444444,
              "#bd3786"
             ],
             [
              0.5555555555555556,
              "#d8576b"
             ],
             [
              0.6666666666666666,
              "#ed7953"
             ],
             [
              0.7777777777777778,
              "#fb9f3a"
             ],
             [
              0.8888888888888888,
              "#fdca26"
             ],
             [
              1,
              "#f0f921"
             ]
            ],
            "type": "heatmap"
           }
          ],
          "heatmapgl": [
           {
            "colorbar": {
             "outlinewidth": 0,
             "ticks": ""
            },
            "colorscale": [
             [
              0,
              "#0d0887"
             ],
             [
              0.1111111111111111,
              "#46039f"
             ],
             [
              0.2222222222222222,
              "#7201a8"
             ],
             [
              0.3333333333333333,
              "#9c179e"
             ],
             [
              0.4444444444444444,
              "#bd3786"
             ],
             [
              0.5555555555555556,
              "#d8576b"
             ],
             [
              0.6666666666666666,
              "#ed7953"
             ],
             [
              0.7777777777777778,
              "#fb9f3a"
             ],
             [
              0.8888888888888888,
              "#fdca26"
             ],
             [
              1,
              "#f0f921"
             ]
            ],
            "type": "heatmapgl"
           }
          ],
          "histogram": [
           {
            "marker": {
             "pattern": {
              "fillmode": "overlay",
              "size": 10,
              "solidity": 0.2
             }
            },
            "type": "histogram"
           }
          ],
          "histogram2d": [
           {
            "colorbar": {
             "outlinewidth": 0,
             "ticks": ""
            },
            "colorscale": [
             [
              0,
              "#0d0887"
             ],
             [
              0.1111111111111111,
              "#46039f"
             ],
             [
              0.2222222222222222,
              "#7201a8"
             ],
             [
              0.3333333333333333,
              "#9c179e"
             ],
             [
              0.4444444444444444,
              "#bd3786"
             ],
             [
              0.5555555555555556,
              "#d8576b"
             ],
             [
              0.6666666666666666,
              "#ed7953"
             ],
             [
              0.7777777777777778,
              "#fb9f3a"
             ],
             [
              0.8888888888888888,
              "#fdca26"
             ],
             [
              1,
              "#f0f921"
             ]
            ],
            "type": "histogram2d"
           }
          ],
          "histogram2dcontour": [
           {
            "colorbar": {
             "outlinewidth": 0,
             "ticks": ""
            },
            "colorscale": [
             [
              0,
              "#0d0887"
             ],
             [
              0.1111111111111111,
              "#46039f"
             ],
             [
              0.2222222222222222,
              "#7201a8"
             ],
             [
              0.3333333333333333,
              "#9c179e"
             ],
             [
              0.4444444444444444,
              "#bd3786"
             ],
             [
              0.5555555555555556,
              "#d8576b"
             ],
             [
              0.6666666666666666,
              "#ed7953"
             ],
             [
              0.7777777777777778,
              "#fb9f3a"
             ],
             [
              0.8888888888888888,
              "#fdca26"
             ],
             [
              1,
              "#f0f921"
             ]
            ],
            "type": "histogram2dcontour"
           }
          ],
          "mesh3d": [
           {
            "colorbar": {
             "outlinewidth": 0,
             "ticks": ""
            },
            "type": "mesh3d"
           }
          ],
          "parcoords": [
           {
            "line": {
             "colorbar": {
              "outlinewidth": 0,
              "ticks": ""
             }
            },
            "type": "parcoords"
           }
          ],
          "pie": [
           {
            "automargin": true,
            "type": "pie"
           }
          ],
          "scatter": [
           {
            "fillpattern": {
             "fillmode": "overlay",
             "size": 10,
             "solidity": 0.2
            },
            "type": "scatter"
           }
          ],
          "scatter3d": [
           {
            "line": {
             "colorbar": {
              "outlinewidth": 0,
              "ticks": ""
             }
            },
            "marker": {
             "colorbar": {
              "outlinewidth": 0,
              "ticks": ""
             }
            },
            "type": "scatter3d"
           }
          ],
          "scattercarpet": [
           {
            "marker": {
             "colorbar": {
              "outlinewidth": 0,
              "ticks": ""
             }
            },
            "type": "scattercarpet"
           }
          ],
          "scattergeo": [
           {
            "marker": {
             "colorbar": {
              "outlinewidth": 0,
              "ticks": ""
             }
            },
            "type": "scattergeo"
           }
          ],
          "scattergl": [
           {
            "marker": {
             "colorbar": {
              "outlinewidth": 0,
              "ticks": ""
             }
            },
            "type": "scattergl"
           }
          ],
          "scattermapbox": [
           {
            "marker": {
             "colorbar": {
              "outlinewidth": 0,
              "ticks": ""
             }
            },
            "type": "scattermapbox"
           }
          ],
          "scatterpolar": [
           {
            "marker": {
             "colorbar": {
              "outlinewidth": 0,
              "ticks": ""
             }
            },
            "type": "scatterpolar"
           }
          ],
          "scatterpolargl": [
           {
            "marker": {
             "colorbar": {
              "outlinewidth": 0,
              "ticks": ""
             }
            },
            "type": "scatterpolargl"
           }
          ],
          "scatterternary": [
           {
            "marker": {
             "colorbar": {
              "outlinewidth": 0,
              "ticks": ""
             }
            },
            "type": "scatterternary"
           }
          ],
          "surface": [
           {
            "colorbar": {
             "outlinewidth": 0,
             "ticks": ""
            },
            "colorscale": [
             [
              0,
              "#0d0887"
             ],
             [
              0.1111111111111111,
              "#46039f"
             ],
             [
              0.2222222222222222,
              "#7201a8"
             ],
             [
              0.3333333333333333,
              "#9c179e"
             ],
             [
              0.4444444444444444,
              "#bd3786"
             ],
             [
              0.5555555555555556,
              "#d8576b"
             ],
             [
              0.6666666666666666,
              "#ed7953"
             ],
             [
              0.7777777777777778,
              "#fb9f3a"
             ],
             [
              0.8888888888888888,
              "#fdca26"
             ],
             [
              1,
              "#f0f921"
             ]
            ],
            "type": "surface"
           }
          ],
          "table": [
           {
            "cells": {
             "fill": {
              "color": "#EBF0F8"
             },
             "line": {
              "color": "white"
             }
            },
            "header": {
             "fill": {
              "color": "#C8D4E3"
             },
             "line": {
              "color": "white"
             }
            },
            "type": "table"
           }
          ]
         },
         "layout": {
          "annotationdefaults": {
           "arrowcolor": "#2a3f5f",
           "arrowhead": 0,
           "arrowwidth": 1
          },
          "autotypenumbers": "strict",
          "coloraxis": {
           "colorbar": {
            "outlinewidth": 0,
            "ticks": ""
           }
          },
          "colorscale": {
           "diverging": [
            [
             0,
             "#8e0152"
            ],
            [
             0.1,
             "#c51b7d"
            ],
            [
             0.2,
             "#de77ae"
            ],
            [
             0.3,
             "#f1b6da"
            ],
            [
             0.4,
             "#fde0ef"
            ],
            [
             0.5,
             "#f7f7f7"
            ],
            [
             0.6,
             "#e6f5d0"
            ],
            [
             0.7,
             "#b8e186"
            ],
            [
             0.8,
             "#7fbc41"
            ],
            [
             0.9,
             "#4d9221"
            ],
            [
             1,
             "#276419"
            ]
           ],
           "sequential": [
            [
             0,
             "#0d0887"
            ],
            [
             0.1111111111111111,
             "#46039f"
            ],
            [
             0.2222222222222222,
             "#7201a8"
            ],
            [
             0.3333333333333333,
             "#9c179e"
            ],
            [
             0.4444444444444444,
             "#bd3786"
            ],
            [
             0.5555555555555556,
             "#d8576b"
            ],
            [
             0.6666666666666666,
             "#ed7953"
            ],
            [
             0.7777777777777778,
             "#fb9f3a"
            ],
            [
             0.8888888888888888,
             "#fdca26"
            ],
            [
             1,
             "#f0f921"
            ]
           ],
           "sequentialminus": [
            [
             0,
             "#0d0887"
            ],
            [
             0.1111111111111111,
             "#46039f"
            ],
            [
             0.2222222222222222,
             "#7201a8"
            ],
            [
             0.3333333333333333,
             "#9c179e"
            ],
            [
             0.4444444444444444,
             "#bd3786"
            ],
            [
             0.5555555555555556,
             "#d8576b"
            ],
            [
             0.6666666666666666,
             "#ed7953"
            ],
            [
             0.7777777777777778,
             "#fb9f3a"
            ],
            [
             0.8888888888888888,
             "#fdca26"
            ],
            [
             1,
             "#f0f921"
            ]
           ]
          },
          "colorway": [
           "#636efa",
           "#EF553B",
           "#00cc96",
           "#ab63fa",
           "#FFA15A",
           "#19d3f3",
           "#FF6692",
           "#B6E880",
           "#FF97FF",
           "#FECB52"
          ],
          "font": {
           "color": "#2a3f5f"
          },
          "geo": {
           "bgcolor": "white",
           "lakecolor": "white",
           "landcolor": "#E5ECF6",
           "showlakes": true,
           "showland": true,
           "subunitcolor": "white"
          },
          "hoverlabel": {
           "align": "left"
          },
          "hovermode": "closest",
          "mapbox": {
           "style": "light"
          },
          "paper_bgcolor": "white",
          "plot_bgcolor": "#E5ECF6",
          "polar": {
           "angularaxis": {
            "gridcolor": "white",
            "linecolor": "white",
            "ticks": ""
           },
           "bgcolor": "#E5ECF6",
           "radialaxis": {
            "gridcolor": "white",
            "linecolor": "white",
            "ticks": ""
           }
          },
          "scene": {
           "xaxis": {
            "backgroundcolor": "#E5ECF6",
            "gridcolor": "white",
            "gridwidth": 2,
            "linecolor": "white",
            "showbackground": true,
            "ticks": "",
            "zerolinecolor": "white"
           },
           "yaxis": {
            "backgroundcolor": "#E5ECF6",
            "gridcolor": "white",
            "gridwidth": 2,
            "linecolor": "white",
            "showbackground": true,
            "ticks": "",
            "zerolinecolor": "white"
           },
           "zaxis": {
            "backgroundcolor": "#E5ECF6",
            "gridcolor": "white",
            "gridwidth": 2,
            "linecolor": "white",
            "showbackground": true,
            "ticks": "",
            "zerolinecolor": "white"
           }
          },
          "shapedefaults": {
           "line": {
            "color": "#2a3f5f"
           }
          },
          "ternary": {
           "aaxis": {
            "gridcolor": "white",
            "linecolor": "white",
            "ticks": ""
           },
           "baxis": {
            "gridcolor": "white",
            "linecolor": "white",
            "ticks": ""
           },
           "bgcolor": "#E5ECF6",
           "caxis": {
            "gridcolor": "white",
            "linecolor": "white",
            "ticks": ""
           }
          },
          "title": {
           "x": 0.05
          },
          "xaxis": {
           "automargin": true,
           "gridcolor": "white",
           "linecolor": "white",
           "ticks": "",
           "title": {
            "standoff": 15
           },
           "zerolinecolor": "white",
           "zerolinewidth": 2
          },
          "yaxis": {
           "automargin": true,
           "gridcolor": "white",
           "linecolor": "white",
           "ticks": "",
           "title": {
            "standoff": 15
           },
           "zerolinecolor": "white",
           "zerolinewidth": 2
          }
         }
        },
        "xaxis": {
         "anchor": "y",
         "domain": [
          0,
          1
         ],
         "title": {
          "text": "chord"
         }
        },
        "yaxis": {
         "anchor": "x",
         "domain": [
          0,
          1
         ],
         "title": {
          "text": "count"
         }
        }
       }
      }
     },
     "metadata": {},
     "output_type": "display_data"
    }
   ],
   "source": [
    "fig = px.bar(chord_counts_df, x='chord', y='count', color='count')\n",
    "fig.show()"
   ]
  }
 ],
 "metadata": {
  "kernelspec": {
   "display_name": "Python 3",
   "language": "python",
   "name": "python3"
  },
  "language_info": {
   "codemirror_mode": {
    "name": "ipython",
    "version": 3
   },
   "file_extension": ".py",
   "mimetype": "text/x-python",
   "name": "python",
   "nbconvert_exporter": "python",
   "pygments_lexer": "ipython3",
   "version": "3.10.6"
  },
  "orig_nbformat": 4,
  "vscode": {
   "interpreter": {
    "hash": "bb1cd77efc362c1067be37b2db7d4159e0c7f871d479a5e23c1f1747c4472ddf"
   }
  }
 },
 "nbformat": 4,
 "nbformat_minor": 2
}
