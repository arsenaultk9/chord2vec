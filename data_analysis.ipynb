{
 "cells": [
  {
   "attachments": {},
   "cell_type": "markdown",
   "metadata": {},
   "source": [
    "# Data loading"
   ]
  },
  {
   "cell_type": "code",
   "execution_count": 33,
   "metadata": {},
   "outputs": [],
   "source": [
    "import pickle\n",
    "import numpy as np\n",
    "import pandas as pd\n",
    "import plotly.express as px\n",
    "\n",
    "with open('./data/training_data.pkl', 'rb') as file:\n",
    "        data = pickle.load(file, encoding=\"latin1\")\n",
    "\n",
    "vocabulary = data['chords_vocabulary']"
   ]
  },
  {
   "attachments": {},
   "cell_type": "markdown",
   "metadata": {},
   "source": [
    "# Get chord statistics"
   ]
  },
  {
   "cell_type": "code",
   "execution_count": 34,
   "metadata": {},
   "outputs": [],
   "source": [
    "all_chords = []\n",
    "\n",
    "for song in data['train']:\n",
    "    all_chords += song\n",
    "\n",
    "chord_counts_indices = dict()\n",
    "\n",
    "# chord count from index\n",
    "for chord in all_chords:\n",
    "    if chord not in chord_counts_indices:\n",
    "        chord_counts_indices[chord] = 0\n",
    "\n",
    "    chord_counts_indices[chord] += 1\n",
    "\n",
    "# chord count from name\n",
    "chord_counts = dict()\n",
    "\n",
    "for chord_index, count in chord_counts_indices.items():\n",
    "    chord = vocabulary.indexes_to_chords[chord_index]\n",
    "    chord_notes = ''.join(sorted(chord.note_suffixes))\n",
    "\n",
    "    chord_counts[chord_notes] = count"
   ]
  },
  {
   "attachments": {},
   "cell_type": "markdown",
   "metadata": {},
   "source": [
    "# Visualize data"
   ]
  },
  {
   "cell_type": "code",
   "execution_count": 35,
   "metadata": {},
   "outputs": [
    {
     "name": "stdout",
     "output_type": "stream",
     "text": [
      "min value: 2\n",
      "mean value: 134\n",
      "max value: 1236\n",
      "df shape: (298, 2)\n"
     ]
    }
   ],
   "source": [
    "print(f'min value: {min(chord_counts.values())}')\n",
    "print(f'mean value: {int(sum(chord_counts.values()) / len(chord_counts.values())) }')\n",
    "print(f'max value: {max(chord_counts.values())}')\n",
    "\n",
    "chord_counts_df = pd.DataFrame(chord_counts.items(), columns=['chord', 'count'])\n",
    "chord_counts_df.head()\n",
    "print(f'df shape: {chord_counts_df.shape}')\n"
   ]
  },
  {
   "cell_type": "code",
   "execution_count": 39,
   "metadata": {},
   "outputs": [
    {
     "data": {
      "application/vnd.plotly.v1+json": {
       "config": {
        "plotlyServerURL": "https://plot.ly"
       },
       "data": [
        {
         "alignmentgroup": "True",
         "hovertemplate": "chord=%{x}<br>count=%{marker.color}<extra></extra>",
         "legendgroup": "",
         "marker": {
          "color": [
           1171,
           418,
           1236,
           260,
           1112,
           237,
           1086,
           151,
           90,
           400,
           69,
           694,
           107,
           206,
           380,
           554,
           634,
           390,
           235,
           140,
           159,
           533,
           498,
           498,
           1099,
           138,
           509,
           425,
           384,
           149,
           316,
           164,
           169,
           342,
           205,
           119,
           222,
           91,
           64,
           207,
           32,
           52,
           137,
           132,
           103,
           111,
           189,
           476,
           159,
           699,
           104,
           77,
           33,
           11,
           56,
           102,
           18,
           73,
           28,
           152,
           361,
           133,
           5,
           31,
           84,
           43,
           68,
           23,
           53,
           88,
           55,
           286,
           56,
           46,
           68,
           56,
           91,
           77,
           165,
           117,
           30,
           41,
           73,
           68,
           94,
           25,
           15,
           832,
           597,
           35,
           25,
           260,
           69,
           119,
           421,
           713,
           78,
           244,
           219,
           506,
           118,
           279,
           90,
           145,
           21,
           493,
           85,
           59,
           58,
           84,
           262,
           225,
           61,
           151,
           65,
           29,
           147,
           111,
           104,
           96,
           146,
           150,
           91,
           102,
           27,
           150,
           78,
           112,
           55,
           379,
           33,
           333,
           154,
           124,
           33,
           28,
           65,
           19,
           30,
           51,
           199,
           40,
           25,
           33,
           210,
           28,
           116,
           42,
           171,
           56,
           58,
           69,
           169,
           309,
           147,
           24,
           215,
           102,
           228,
           174,
           92,
           158,
           98,
           94,
           135,
           27,
           133,
           117,
           54,
           47,
           475,
           88,
           102,
           113,
           49,
           44,
           50,
           106,
           59,
           261,
           54,
           47,
           96,
           122,
           74,
           85,
           15,
           60,
           56,
           19,
           29,
           44,
           73,
           55,
           133,
           15,
           73,
           56,
           133,
           60,
           323,
           48,
           30,
           27,
           83,
           11,
           13,
           109,
           91,
           45,
           11,
           9,
           28,
           67,
           63,
           73,
           47,
           73,
           40,
           45,
           32,
           78,
           40,
           63,
           23,
           26,
           20,
           93,
           5,
           67,
           66,
           25,
           44,
           12,
           60,
           176,
           15,
           63,
           61,
           52,
           24,
           39,
           91,
           20,
           29,
           56,
           37,
           69,
           14,
           56,
           31,
           20,
           10,
           35,
           25,
           75,
           39,
           77,
           36,
           27,
           23,
           30,
           27,
           23,
           23,
           28,
           6,
           131,
           37,
           26,
           52,
           44,
           55,
           71,
           50,
           53,
           47,
           17,
           30,
           19,
           16,
           12,
           39,
           22,
           27,
           13,
           27,
           27,
           31,
           25,
           30,
           13,
           11,
           9,
           7,
           2,
           14,
           6
          ],
          "coloraxis": "coloraxis",
          "pattern": {
           "shape": ""
          }
         },
         "name": "",
         "offsetgroup": "",
         "orientation": "v",
         "showlegend": false,
         "textposition": "auto",
         "type": "bar",
         "x": [
          "CEG",
          "ABE",
          "ACE",
          "CDE",
          "ACF",
          "AFG",
          "BDG",
          "ABG",
          "CGG#",
          "CD#G#",
          "D#GG#",
          "A#DF",
          "AA#F",
          "BDF",
          "ACG",
          "CFG#",
          "A#DG",
          "CDG",
          "AE",
          "CEF",
          "AEF",
          "ADE",
          "AEG",
          "ACD",
          "ADF",
          "ABC",
          "ADG",
          "DFG",
          "CDF",
          "AA#D",
          "DEG",
          "DEF",
          "CF",
          "A#CF",
          "A#D#G#",
          "C#D#G#",
          "BD#G#",
          "A#C#G#",
          "D#EG#",
          "A#D#F#",
          "A#F#",
          "A#BF#",
          "BF#G#",
          "C#F#G#",
          "BDG#",
          "EF#G",
          "ACF#",
          "AC#F#",
          "BC#F#",
          "ADF#",
          "F#",
          "C#DF#",
          "C#DE",
          "C#DD#",
          "C#D#F",
          "C#D#F#",
          "C#D#",
          "BC#D#",
          "BD#F",
          "A#C#D#",
          "A#C#F",
          "D#F#G#",
          "AA#G#",
          "DG#",
          "A#CG#",
          "ADG#",
          "CEF#",
          "AA#E",
          "A#EF",
          "AC#D",
          "A#DF#",
          "C#EG#",
          "AF#G#",
          "AC#G#",
          "C#G#",
          "CC#G#",
          "CEG#",
          "AEG#",
          "BC#G#",
          "AA#G",
          "A#BG",
          "CC#G",
          "DD#G",
          "DD#F",
          "BCD",
          "A#BC",
          "C#DF",
          "BEG",
          "CD#G",
          "C#F#G",
          "C#D#G",
          "CD#F",
          "A#F",
          "F",
          "BDE",
          "BDF#",
          "BF#",
          "BEF#",
          "AEF#",
          "CFG",
          "AC",
          "BD#F#",
          "BF#G",
          "DEF#",
          "FF#G",
          "AC#E",
          "B",
          "CF#G",
          "AF#G",
          "CE",
          "ABD",
          "ABF#",
          "ABC#",
          "AF#",
          "BD#E",
          "BD#",
          "AD",
          "EG",
          "DF#G",
          "CDF#",
          "E",
          "BE",
          "D#",
          "ADD#",
          "BC#",
          "BC#E",
          "BC#D",
          "D",
          "C#E",
          "BEG#",
          "D#EF#",
          "C#FG#",
          "A",
          "A#DD#",
          "ACG#",
          "AG#",
          "CDG#",
          "ACC#",
          "A#BD#",
          "ABG#",
          "A#FG",
          "C#FG",
          "DGG#",
          "C#DG",
          "A#CD#",
          "BCG#",
          "FGG#",
          "AA#",
          "BCG",
          "AA#C",
          "AD#E",
          "ABD#",
          "DG",
          "A#CG",
          "C",
          "A#BE",
          "CG",
          "EFG",
          "D#FG#",
          "A#FG#",
          "FG",
          "G",
          "BCF",
          "A#CC#",
          "A#CD",
          "D#F",
          "D#FG",
          "CDD#",
          "A#D",
          "A#GG#",
          "A#D#G",
          "A#EG",
          "DFG#",
          "CD#F#",
          "CG#",
          "CD#",
          "D#G#",
          "BFG",
          "AC#F",
          "A#D#F",
          "DF",
          "AD#G",
          "CD",
          "BD",
          "AF",
          "C#",
          "F#G",
          "C#D#E",
          "EF#",
          "A#C#D",
          "CC#",
          "G#",
          "C#EG",
          "C#F#",
          "C#EF#",
          "BGG#",
          "C#FF#",
          "D#FF#",
          "BCE",
          "A#",
          "A#C#F#",
          "AD#F",
          "BFF#",
          "A#EF#",
          "AG",
          "AGG#",
          "GG#",
          "BG",
          "A#G",
          "D#G",
          "D#F#G",
          "D#EG",
          "DEG#",
          "BG#",
          "EG#",
          "AC#G",
          "CF#G#",
          "AC#",
          "FF#",
          "AB",
          "BEF",
          "DF#",
          "A#C",
          "AD#F#",
          "D#E",
          "C#F",
          "CC#E",
          "A#C#G",
          "C#DG#",
          "A#C#E",
          "EF#G#",
          "A#C#",
          "BCF#",
          "EGG#",
          "BC#F",
          "ACD#",
          "DF#G#",
          "A#FF#",
          "A#DE",
          "A#D#E",
          "FG#",
          "A#EG#",
          "CC#F",
          "A#DG#",
          "AD#",
          "ABF",
          "A#BG#",
          "BFG#",
          "A#F#G",
          "A#CE",
          "DD#E",
          "BF",
          "AA#F#",
          "AC#D#",
          "AFG#",
          "DE",
          "C#D",
          "BC#G",
          "CF#",
          "CC#F#",
          "A#BF",
          "F#G#",
          "FF#G#",
          "CC#D",
          "EF",
          "C#GG#",
          "BCC#",
          "BD#G",
          "CD#E",
          "DFF#",
          "CFF#",
          "A#BD",
          "BC",
          "A#CF#",
          "CC#D#",
          "A#D#",
          "A#F#G#",
          "AA#B",
          "A#E",
          "C#G",
          "F#GG#",
          "D#EF",
          "DD#",
          "AFF#",
          "EFF#",
          "D#F#",
          "BCD#",
          "DD#F#",
          "DD#G#",
          "AA#C#",
          "A#BC#",
          "A#G#",
          "EFG#",
          "BDD#",
          "AD#G#",
          "C#EF",
          "AA#D#",
          "A#B"
         ],
         "xaxis": "x",
         "y": [
          1171,
          418,
          1236,
          260,
          1112,
          237,
          1086,
          151,
          90,
          400,
          69,
          694,
          107,
          206,
          380,
          554,
          634,
          390,
          235,
          140,
          159,
          533,
          498,
          498,
          1099,
          138,
          509,
          425,
          384,
          149,
          316,
          164,
          169,
          342,
          205,
          119,
          222,
          91,
          64,
          207,
          32,
          52,
          137,
          132,
          103,
          111,
          189,
          476,
          159,
          699,
          104,
          77,
          33,
          11,
          56,
          102,
          18,
          73,
          28,
          152,
          361,
          133,
          5,
          31,
          84,
          43,
          68,
          23,
          53,
          88,
          55,
          286,
          56,
          46,
          68,
          56,
          91,
          77,
          165,
          117,
          30,
          41,
          73,
          68,
          94,
          25,
          15,
          832,
          597,
          35,
          25,
          260,
          69,
          119,
          421,
          713,
          78,
          244,
          219,
          506,
          118,
          279,
          90,
          145,
          21,
          493,
          85,
          59,
          58,
          84,
          262,
          225,
          61,
          151,
          65,
          29,
          147,
          111,
          104,
          96,
          146,
          150,
          91,
          102,
          27,
          150,
          78,
          112,
          55,
          379,
          33,
          333,
          154,
          124,
          33,
          28,
          65,
          19,
          30,
          51,
          199,
          40,
          25,
          33,
          210,
          28,
          116,
          42,
          171,
          56,
          58,
          69,
          169,
          309,
          147,
          24,
          215,
          102,
          228,
          174,
          92,
          158,
          98,
          94,
          135,
          27,
          133,
          117,
          54,
          47,
          475,
          88,
          102,
          113,
          49,
          44,
          50,
          106,
          59,
          261,
          54,
          47,
          96,
          122,
          74,
          85,
          15,
          60,
          56,
          19,
          29,
          44,
          73,
          55,
          133,
          15,
          73,
          56,
          133,
          60,
          323,
          48,
          30,
          27,
          83,
          11,
          13,
          109,
          91,
          45,
          11,
          9,
          28,
          67,
          63,
          73,
          47,
          73,
          40,
          45,
          32,
          78,
          40,
          63,
          23,
          26,
          20,
          93,
          5,
          67,
          66,
          25,
          44,
          12,
          60,
          176,
          15,
          63,
          61,
          52,
          24,
          39,
          91,
          20,
          29,
          56,
          37,
          69,
          14,
          56,
          31,
          20,
          10,
          35,
          25,
          75,
          39,
          77,
          36,
          27,
          23,
          30,
          27,
          23,
          23,
          28,
          6,
          131,
          37,
          26,
          52,
          44,
          55,
          71,
          50,
          53,
          47,
          17,
          30,
          19,
          16,
          12,
          39,
          22,
          27,
          13,
          27,
          27,
          31,
          25,
          30,
          13,
          11,
          9,
          7,
          2,
          14,
          6
         ],
         "yaxis": "y"
        }
       ],
       "layout": {
        "barmode": "relative",
        "coloraxis": {
         "colorbar": {
          "title": {
           "text": "count"
          }
         },
         "colorscale": [
          [
           0,
           "#0d0887"
          ],
          [
           0.1111111111111111,
           "#46039f"
          ],
          [
           0.2222222222222222,
           "#7201a8"
          ],
          [
           0.3333333333333333,
           "#9c179e"
          ],
          [
           0.4444444444444444,
           "#bd3786"
          ],
          [
           0.5555555555555556,
           "#d8576b"
          ],
          [
           0.6666666666666666,
           "#ed7953"
          ],
          [
           0.7777777777777778,
           "#fb9f3a"
          ],
          [
           0.8888888888888888,
           "#fdca26"
          ],
          [
           1,
           "#f0f921"
          ]
         ]
        },
        "legend": {
         "tracegroupgap": 0
        },
        "margin": {
         "t": 60
        },
        "template": {
         "data": {
          "bar": [
           {
            "error_x": {
             "color": "#2a3f5f"
            },
            "error_y": {
             "color": "#2a3f5f"
            },
            "marker": {
             "line": {
              "color": "#E5ECF6",
              "width": 0.5
             },
             "pattern": {
              "fillmode": "overlay",
              "size": 10,
              "solidity": 0.2
             }
            },
            "type": "bar"
           }
          ],
          "barpolar": [
           {
            "marker": {
             "line": {
              "color": "#E5ECF6",
              "width": 0.5
             },
             "pattern": {
              "fillmode": "overlay",
              "size": 10,
              "solidity": 0.2
             }
            },
            "type": "barpolar"
           }
          ],
          "carpet": [
           {
            "aaxis": {
             "endlinecolor": "#2a3f5f",
             "gridcolor": "white",
             "linecolor": "white",
             "minorgridcolor": "white",
             "startlinecolor": "#2a3f5f"
            },
            "baxis": {
             "endlinecolor": "#2a3f5f",
             "gridcolor": "white",
             "linecolor": "white",
             "minorgridcolor": "white",
             "startlinecolor": "#2a3f5f"
            },
            "type": "carpet"
           }
          ],
          "choropleth": [
           {
            "colorbar": {
             "outlinewidth": 0,
             "ticks": ""
            },
            "type": "choropleth"
           }
          ],
          "contour": [
           {
            "colorbar": {
             "outlinewidth": 0,
             "ticks": ""
            },
            "colorscale": [
             [
              0,
              "#0d0887"
             ],
             [
              0.1111111111111111,
              "#46039f"
             ],
             [
              0.2222222222222222,
              "#7201a8"
             ],
             [
              0.3333333333333333,
              "#9c179e"
             ],
             [
              0.4444444444444444,
              "#bd3786"
             ],
             [
              0.5555555555555556,
              "#d8576b"
             ],
             [
              0.6666666666666666,
              "#ed7953"
             ],
             [
              0.7777777777777778,
              "#fb9f3a"
             ],
             [
              0.8888888888888888,
              "#fdca26"
             ],
             [
              1,
              "#f0f921"
             ]
            ],
            "type": "contour"
           }
          ],
          "contourcarpet": [
           {
            "colorbar": {
             "outlinewidth": 0,
             "ticks": ""
            },
            "type": "contourcarpet"
           }
          ],
          "heatmap": [
           {
            "colorbar": {
             "outlinewidth": 0,
             "ticks": ""
            },
            "colorscale": [
             [
              0,
              "#0d0887"
             ],
             [
              0.1111111111111111,
              "#46039f"
             ],
             [
              0.2222222222222222,
              "#7201a8"
             ],
             [
              0.3333333333333333,
              "#9c179e"
             ],
             [
              0.4444444444444444,
              "#bd3786"
             ],
             [
              0.5555555555555556,
              "#d8576b"
             ],
             [
              0.6666666666666666,
              "#ed7953"
             ],
             [
              0.7777777777777778,
              "#fb9f3a"
             ],
             [
              0.8888888888888888,
              "#fdca26"
             ],
             [
              1,
              "#f0f921"
             ]
            ],
            "type": "heatmap"
           }
          ],
          "heatmapgl": [
           {
            "colorbar": {
             "outlinewidth": 0,
             "ticks": ""
            },
            "colorscale": [
             [
              0,
              "#0d0887"
             ],
             [
              0.1111111111111111,
              "#46039f"
             ],
             [
              0.2222222222222222,
              "#7201a8"
             ],
             [
              0.3333333333333333,
              "#9c179e"
             ],
             [
              0.4444444444444444,
              "#bd3786"
             ],
             [
              0.5555555555555556,
              "#d8576b"
             ],
             [
              0.6666666666666666,
              "#ed7953"
             ],
             [
              0.7777777777777778,
              "#fb9f3a"
             ],
             [
              0.8888888888888888,
              "#fdca26"
             ],
             [
              1,
              "#f0f921"
             ]
            ],
            "type": "heatmapgl"
           }
          ],
          "histogram": [
           {
            "marker": {
             "pattern": {
              "fillmode": "overlay",
              "size": 10,
              "solidity": 0.2
             }
            },
            "type": "histogram"
           }
          ],
          "histogram2d": [
           {
            "colorbar": {
             "outlinewidth": 0,
             "ticks": ""
            },
            "colorscale": [
             [
              0,
              "#0d0887"
             ],
             [
              0.1111111111111111,
              "#46039f"
             ],
             [
              0.2222222222222222,
              "#7201a8"
             ],
             [
              0.3333333333333333,
              "#9c179e"
             ],
             [
              0.4444444444444444,
              "#bd3786"
             ],
             [
              0.5555555555555556,
              "#d8576b"
             ],
             [
              0.6666666666666666,
              "#ed7953"
             ],
             [
              0.7777777777777778,
              "#fb9f3a"
             ],
             [
              0.8888888888888888,
              "#fdca26"
             ],
             [
              1,
              "#f0f921"
             ]
            ],
            "type": "histogram2d"
           }
          ],
          "histogram2dcontour": [
           {
            "colorbar": {
             "outlinewidth": 0,
             "ticks": ""
            },
            "colorscale": [
             [
              0,
              "#0d0887"
             ],
             [
              0.1111111111111111,
              "#46039f"
             ],
             [
              0.2222222222222222,
              "#7201a8"
             ],
             [
              0.3333333333333333,
              "#9c179e"
             ],
             [
              0.4444444444444444,
              "#bd3786"
             ],
             [
              0.5555555555555556,
              "#d8576b"
             ],
             [
              0.6666666666666666,
              "#ed7953"
             ],
             [
              0.7777777777777778,
              "#fb9f3a"
             ],
             [
              0.8888888888888888,
              "#fdca26"
             ],
             [
              1,
              "#f0f921"
             ]
            ],
            "type": "histogram2dcontour"
           }
          ],
          "mesh3d": [
           {
            "colorbar": {
             "outlinewidth": 0,
             "ticks": ""
            },
            "type": "mesh3d"
           }
          ],
          "parcoords": [
           {
            "line": {
             "colorbar": {
              "outlinewidth": 0,
              "ticks": ""
             }
            },
            "type": "parcoords"
           }
          ],
          "pie": [
           {
            "automargin": true,
            "type": "pie"
           }
          ],
          "scatter": [
           {
            "fillpattern": {
             "fillmode": "overlay",
             "size": 10,
             "solidity": 0.2
            },
            "type": "scatter"
           }
          ],
          "scatter3d": [
           {
            "line": {
             "colorbar": {
              "outlinewidth": 0,
              "ticks": ""
             }
            },
            "marker": {
             "colorbar": {
              "outlinewidth": 0,
              "ticks": ""
             }
            },
            "type": "scatter3d"
           }
          ],
          "scattercarpet": [
           {
            "marker": {
             "colorbar": {
              "outlinewidth": 0,
              "ticks": ""
             }
            },
            "type": "scattercarpet"
           }
          ],
          "scattergeo": [
           {
            "marker": {
             "colorbar": {
              "outlinewidth": 0,
              "ticks": ""
             }
            },
            "type": "scattergeo"
           }
          ],
          "scattergl": [
           {
            "marker": {
             "colorbar": {
              "outlinewidth": 0,
              "ticks": ""
             }
            },
            "type": "scattergl"
           }
          ],
          "scattermapbox": [
           {
            "marker": {
             "colorbar": {
              "outlinewidth": 0,
              "ticks": ""
             }
            },
            "type": "scattermapbox"
           }
          ],
          "scatterpolar": [
           {
            "marker": {
             "colorbar": {
              "outlinewidth": 0,
              "ticks": ""
             }
            },
            "type": "scatterpolar"
           }
          ],
          "scatterpolargl": [
           {
            "marker": {
             "colorbar": {
              "outlinewidth": 0,
              "ticks": ""
             }
            },
            "type": "scatterpolargl"
           }
          ],
          "scatterternary": [
           {
            "marker": {
             "colorbar": {
              "outlinewidth": 0,
              "ticks": ""
             }
            },
            "type": "scatterternary"
           }
          ],
          "surface": [
           {
            "colorbar": {
             "outlinewidth": 0,
             "ticks": ""
            },
            "colorscale": [
             [
              0,
              "#0d0887"
             ],
             [
              0.1111111111111111,
              "#46039f"
             ],
             [
              0.2222222222222222,
              "#7201a8"
             ],
             [
              0.3333333333333333,
              "#9c179e"
             ],
             [
              0.4444444444444444,
              "#bd3786"
             ],
             [
              0.5555555555555556,
              "#d8576b"
             ],
             [
              0.6666666666666666,
              "#ed7953"
             ],
             [
              0.7777777777777778,
              "#fb9f3a"
             ],
             [
              0.8888888888888888,
              "#fdca26"
             ],
             [
              1,
              "#f0f921"
             ]
            ],
            "type": "surface"
           }
          ],
          "table": [
           {
            "cells": {
             "fill": {
              "color": "#EBF0F8"
             },
             "line": {
              "color": "white"
             }
            },
            "header": {
             "fill": {
              "color": "#C8D4E3"
             },
             "line": {
              "color": "white"
             }
            },
            "type": "table"
           }
          ]
         },
         "layout": {
          "annotationdefaults": {
           "arrowcolor": "#2a3f5f",
           "arrowhead": 0,
           "arrowwidth": 1
          },
          "autotypenumbers": "strict",
          "coloraxis": {
           "colorbar": {
            "outlinewidth": 0,
            "ticks": ""
           }
          },
          "colorscale": {
           "diverging": [
            [
             0,
             "#8e0152"
            ],
            [
             0.1,
             "#c51b7d"
            ],
            [
             0.2,
             "#de77ae"
            ],
            [
             0.3,
             "#f1b6da"
            ],
            [
             0.4,
             "#fde0ef"
            ],
            [
             0.5,
             "#f7f7f7"
            ],
            [
             0.6,
             "#e6f5d0"
            ],
            [
             0.7,
             "#b8e186"
            ],
            [
             0.8,
             "#7fbc41"
            ],
            [
             0.9,
             "#4d9221"
            ],
            [
             1,
             "#276419"
            ]
           ],
           "sequential": [
            [
             0,
             "#0d0887"
            ],
            [
             0.1111111111111111,
             "#46039f"
            ],
            [
             0.2222222222222222,
             "#7201a8"
            ],
            [
             0.3333333333333333,
             "#9c179e"
            ],
            [
             0.4444444444444444,
             "#bd3786"
            ],
            [
             0.5555555555555556,
             "#d8576b"
            ],
            [
             0.6666666666666666,
             "#ed7953"
            ],
            [
             0.7777777777777778,
             "#fb9f3a"
            ],
            [
             0.8888888888888888,
             "#fdca26"
            ],
            [
             1,
             "#f0f921"
            ]
           ],
           "sequentialminus": [
            [
             0,
             "#0d0887"
            ],
            [
             0.1111111111111111,
             "#46039f"
            ],
            [
             0.2222222222222222,
             "#7201a8"
            ],
            [
             0.3333333333333333,
             "#9c179e"
            ],
            [
             0.4444444444444444,
             "#bd3786"
            ],
            [
             0.5555555555555556,
             "#d8576b"
            ],
            [
             0.6666666666666666,
             "#ed7953"
            ],
            [
             0.7777777777777778,
             "#fb9f3a"
            ],
            [
             0.8888888888888888,
             "#fdca26"
            ],
            [
             1,
             "#f0f921"
            ]
           ]
          },
          "colorway": [
           "#636efa",
           "#EF553B",
           "#00cc96",
           "#ab63fa",
           "#FFA15A",
           "#19d3f3",
           "#FF6692",
           "#B6E880",
           "#FF97FF",
           "#FECB52"
          ],
          "font": {
           "color": "#2a3f5f"
          },
          "geo": {
           "bgcolor": "white",
           "lakecolor": "white",
           "landcolor": "#E5ECF6",
           "showlakes": true,
           "showland": true,
           "subunitcolor": "white"
          },
          "hoverlabel": {
           "align": "left"
          },
          "hovermode": "closest",
          "mapbox": {
           "style": "light"
          },
          "paper_bgcolor": "white",
          "plot_bgcolor": "#E5ECF6",
          "polar": {
           "angularaxis": {
            "gridcolor": "white",
            "linecolor": "white",
            "ticks": ""
           },
           "bgcolor": "#E5ECF6",
           "radialaxis": {
            "gridcolor": "white",
            "linecolor": "white",
            "ticks": ""
           }
          },
          "scene": {
           "xaxis": {
            "backgroundcolor": "#E5ECF6",
            "gridcolor": "white",
            "gridwidth": 2,
            "linecolor": "white",
            "showbackground": true,
            "ticks": "",
            "zerolinecolor": "white"
           },
           "yaxis": {
            "backgroundcolor": "#E5ECF6",
            "gridcolor": "white",
            "gridwidth": 2,
            "linecolor": "white",
            "showbackground": true,
            "ticks": "",
            "zerolinecolor": "white"
           },
           "zaxis": {
            "backgroundcolor": "#E5ECF6",
            "gridcolor": "white",
            "gridwidth": 2,
            "linecolor": "white",
            "showbackground": true,
            "ticks": "",
            "zerolinecolor": "white"
           }
          },
          "shapedefaults": {
           "line": {
            "color": "#2a3f5f"
           }
          },
          "ternary": {
           "aaxis": {
            "gridcolor": "white",
            "linecolor": "white",
            "ticks": ""
           },
           "baxis": {
            "gridcolor": "white",
            "linecolor": "white",
            "ticks": ""
           },
           "bgcolor": "#E5ECF6",
           "caxis": {
            "gridcolor": "white",
            "linecolor": "white",
            "ticks": ""
           }
          },
          "title": {
           "x": 0.05
          },
          "xaxis": {
           "automargin": true,
           "gridcolor": "white",
           "linecolor": "white",
           "ticks": "",
           "title": {
            "standoff": 15
           },
           "zerolinecolor": "white",
           "zerolinewidth": 2
          },
          "yaxis": {
           "automargin": true,
           "gridcolor": "white",
           "linecolor": "white",
           "ticks": "",
           "title": {
            "standoff": 15
           },
           "zerolinecolor": "white",
           "zerolinewidth": 2
          }
         }
        },
        "xaxis": {
         "anchor": "y",
         "domain": [
          0,
          1
         ],
         "title": {
          "text": "chord"
         }
        },
        "yaxis": {
         "anchor": "x",
         "domain": [
          0,
          1
         ],
         "title": {
          "text": "count"
         },
         "type": "log"
        }
       }
      }
     },
     "metadata": {},
     "output_type": "display_data"
    }
   ],
   "source": [
    "fig = px.bar(chord_counts_df, x='chord', y='count', color='count')\n",
    "fig.show()"
   ]
  }
 ],
 "metadata": {
  "kernelspec": {
   "display_name": "Python 3",
   "language": "python",
   "name": "python3"
  },
  "language_info": {
   "codemirror_mode": {
    "name": "ipython",
    "version": 3
   },
   "file_extension": ".py",
   "mimetype": "text/x-python",
   "name": "python",
   "nbconvert_exporter": "python",
   "pygments_lexer": "ipython3",
   "version": "3.10.6"
  },
  "orig_nbformat": 4,
  "vscode": {
   "interpreter": {
    "hash": "bb1cd77efc362c1067be37b2db7d4159e0c7f871d479a5e23c1f1747c4472ddf"
   }
  }
 },
 "nbformat": 4,
 "nbformat_minor": 2
}
