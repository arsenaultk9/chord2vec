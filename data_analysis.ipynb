{
 "cells": [
  {
   "attachments": {},
   "cell_type": "markdown",
   "metadata": {},
   "source": [
    "# Data loading"
   ]
  },
  {
   "cell_type": "code",
   "execution_count": 13,
   "metadata": {},
   "outputs": [],
   "source": [
    "import pickle\n",
    "import numpy as np\n",
    "import pandas as pd\n",
    "import plotly.express as px\n",
    "\n",
    "with open('./data/training_data_generation_augmented.pkl', 'rb') as file:\n",
    "        data = pickle.load(file, encoding=\"latin1\")\n",
    "\n",
    "vocabulary = data['chords_vocabulary']"
   ]
  },
  {
   "attachments": {},
   "cell_type": "markdown",
   "metadata": {},
   "source": [
    "# Get chord statistics"
   ]
  },
  {
   "cell_type": "code",
   "execution_count": 14,
   "metadata": {},
   "outputs": [],
   "source": [
    "all_chords = []\n",
    "\n",
    "for song in data['train']:\n",
    "    all_chords += song\n",
    "\n",
    "chord_counts_indices = dict()\n",
    "\n",
    "# chord count from index\n",
    "for chord in all_chords:\n",
    "    if chord not in chord_counts_indices:\n",
    "        chord_counts_indices[chord] = 0\n",
    "\n",
    "    chord_counts_indices[chord] += 1\n",
    "\n",
    "# chord count from name\n",
    "chord_counts = dict()\n",
    "\n",
    "for chord_index, count in chord_counts_indices.items():\n",
    "    chord = vocabulary.indexes_to_chords[chord_index]\n",
    "    chord_notes = ''.join(sorted(chord.note_suffixes))\n",
    "\n",
    "    chord_counts[chord_notes] = count\n",
    "\n",
    "chord_counts = dict(sorted(chord_counts.items(), key = lambda x: x[1], reverse = True))"
   ]
  },
  {
   "attachments": {},
   "cell_type": "markdown",
   "metadata": {},
   "source": [
    "# Visualize data"
   ]
  },
  {
   "cell_type": "code",
   "execution_count": 15,
   "metadata": {},
   "outputs": [
    {
     "name": "stdout",
     "output_type": "stream",
     "text": [
      "min value: 169\n",
      "mean value: 1733\n",
      "max value: 8334\n",
      "298/298 total chords\n"
     ]
    }
   ],
   "source": [
    "print(f'min value: {min(chord_counts.values())}')\n",
    "print(f'mean value: {int(sum(chord_counts.values()) / len(chord_counts.values())) }')\n",
    "print(f'max value: {max(chord_counts.values())}')\n",
    "\n",
    "chord_counts_df = pd.DataFrame(chord_counts.items(), columns=['chord', 'count'])\n",
    "chord_counts_df.head()\n",
    "print(f'{chord_counts_df.shape[0]}/{len(vocabulary.indexes_to_chords)} total chords')\n"
   ]
  },
  {
   "cell_type": "code",
   "execution_count": 16,
   "metadata": {},
   "outputs": [
    {
     "data": {
      "application/vnd.plotly.v1+json": {
       "config": {
        "plotlyServerURL": "https://plot.ly"
       },
       "data": [
        {
         "alignmentgroup": "True",
         "hovertemplate": "chord=%{x}<br>count=%{marker.color}<extra></extra>",
         "legendgroup": "",
         "marker": {
          "color": [
           8334,
           8265,
           8104,
           8100,
           7968,
           7954,
           7871,
           7870,
           7827,
           7788,
           7744,
           7698,
           6637,
           6298,
           6297,
           6289,
           6241,
           6226,
           6217,
           6207,
           6076,
           6039,
           6022,
           5958,
           4389,
           4345,
           4308,
           4296,
           4280,
           4206,
           4168,
           4150,
           4125,
           4120,
           4000,
           3973,
           3745,
           3689,
           3688,
           3589,
           3572,
           3557,
           3552,
           3552,
           3498,
           3488,
           3487,
           3445,
           3310,
           3200,
           3195,
           3188,
           3178,
           3056,
           3054,
           3042,
           3037,
           3013,
           2942,
           2867,
           1811,
           1798,
           1770,
           1732,
           1725,
           1724,
           1721,
           1707,
           1706,
           1702,
           1701,
           1698,
           1688,
           1681,
           1680,
           1677,
           1672,
           1663,
           1661,
           1657,
           1653,
           1640,
           1637,
           1619,
           1615,
           1615,
           1613,
           1603,
           1594,
           1587,
           1586,
           1581,
           1556,
           1549,
           1548,
           1547,
           1538,
           1534,
           1529,
           1525,
           1514,
           1507,
           1507,
           1495,
           1486,
           1479,
           1468,
           1461,
           1459,
           1459,
           1453,
           1440,
           1437,
           1408,
           1399,
           1359,
           1354,
           1347,
           1337,
           1330,
           1326,
           1311,
           1296,
           1296,
           1294,
           1290,
           1280,
           1280,
           1274,
           1243,
           1241,
           1236,
           1233,
           1232,
           1230,
           1227,
           1224,
           1224,
           1223,
           1209,
           1190,
           1183,
           1178,
           1163,
           1157,
           1125,
           1089,
           1072,
           1025,
           1019,
           967,
           964,
           962,
           962,
           954,
           942,
           942,
           936,
           936,
           932,
           923,
           912,
           908,
           904,
           895,
           890,
           881,
           875,
           873,
           873,
           872,
           868,
           867,
           867,
           867,
           865,
           865,
           856,
           850,
           847,
           835,
           832,
           806,
           803,
           787,
           779,
           774,
           771,
           767,
           763,
           761,
           758,
           757,
           750,
           750,
           747,
           740,
           740,
           738,
           738,
           733,
           730,
           722,
           718,
           712,
           699,
           693,
           692,
           690,
           688,
           683,
           671,
           658,
           655,
           647,
           643,
           639,
           628,
           625,
           618,
           608,
           592,
           590,
           588,
           585,
           582,
           578,
           577,
           577,
           571,
           569,
           568,
           559,
           552,
           550,
           548,
           535,
           533,
           522,
           511,
           510,
           505,
           504,
           471,
           459,
           426,
           400,
           398,
           397,
           390,
           389,
           358,
           358,
           347,
           343,
           342,
           342,
           334,
           332,
           329,
           329,
           327,
           321,
           306,
           305,
           304,
           301,
           293,
           293,
           288,
           287,
           287,
           285,
           279,
           279,
           277,
           277,
           277,
           272,
           271,
           271,
           262,
           259,
           255,
           255,
           252,
           247,
           242,
           235,
           233,
           230,
           223,
           213,
           209,
           206,
           199,
           194,
           169
          ],
          "coloraxis": "coloraxis",
          "pattern": {
           "shape": ""
          }
         },
         "name": "",
         "offsetgroup": "",
         "orientation": "v",
         "showlegend": false,
         "textposition": "auto",
         "type": "bar",
         "x": [
          "BDG",
          "CEG",
          "A#DF",
          "ADF#",
          "ACF",
          "AC#E",
          "C#FG#",
          "A#D#G",
          "CD#G#",
          "BEG#",
          "A#C#F#",
          "BD#F#",
          "BDF#",
          "BEG",
          "CD#G",
          "A#D#F#",
          "CFG#",
          "AC#F#",
          "ACE",
          "A#C#F",
          "A#DG",
          "C#EG#",
          "ADF",
          "BD#G#",
          "CFG",
          "ADE",
          "A#CF",
          "ABE",
          "A#D#F",
          "CDG",
          "BEF#",
          "ADG",
          "A#D#G#",
          "BC#F#",
          "C#D#G#",
          "C#F#G#",
          "A#CG",
          "BDE",
          "CD#F",
          "DFG",
          "ACD",
          "A#FG#",
          "BC#G#",
          "AEG",
          "D#F#G#",
          "ABF#",
          "C#EF#",
          "A#C#D#",
          "DEG",
          "ACG",
          "ABD",
          "A#CD#",
          "CDF",
          "A#C#G#",
          "D#FG#",
          "A#FG",
          "BF#G#",
          "BC#E",
          "AEF#",
          "C#D#F#",
          "D#FG",
          "A#CD",
          "CG",
          "CD#F#",
          "BDF",
          "C#D#F",
          "A#EG",
          "ABG",
          "DEF#",
          "ACD#",
          "C",
          "CDE",
          "BFG#",
          "C#EG",
          "DFG#",
          "A#CG#",
          "ACF#",
          "A#C#G",
          "AFG",
          "A#F#G#",
          "AD#F#",
          "A#C#E",
          "BDG#",
          "ABC#",
          "F",
          "AE",
          "C#G#",
          "BE",
          "BC#D#",
          "EF#G#",
          "BF#",
          "A#F",
          "A#D#",
          "A",
          "DG",
          "F#",
          "B",
          "A#",
          "DF#G",
          "CF",
          "D",
          "E",
          "G",
          "C#",
          "A#DD#",
          "G#",
          "D#",
          "D#GG#",
          "BCG",
          "C#F#",
          "CC#G#",
          "AA#F",
          "D#G#",
          "AD",
          "CEF",
          "BC#D",
          "C#FF#",
          "AEG#",
          "A#BF#",
          "FGG#",
          "A#BG#",
          "AC#D",
          "BD#G",
          "C#D#E",
          "ABC",
          "CDD#",
          "A#CC#",
          "BCE",
          "D#FF#",
          "C#DF#",
          "AF#G#",
          "CEG#",
          "DD#G",
          "EF#G",
          "CC#F",
          "A#FF#",
          "DEF",
          "AC#G#",
          "BD#E",
          "BF#G",
          "A#DF#",
          "AC#F",
          "CGG#",
          "D#EG#",
          "AA#G",
          "AA#D",
          "AEF",
          "A#BD#",
          "AA#C",
          "AF#G",
          "C#DE",
          "DD#F",
          "BCD",
          "A#GG#",
          "BD",
          "A#C#",
          "ABG#",
          "FG#",
          "EFG",
          "FF#G#",
          "A#BC#",
          "CC#D#",
          "BG#",
          "A#G",
          "CD#",
          "AD#F",
          "BC#F",
          "A#CE",
          "A#DG#",
          "C#D#G",
          "CDF#",
          "AC",
          "AF#",
          "EG",
          "D#F#",
          "CF#G#",
          "D#EF#",
          "DF",
          "C#E",
          "BFG",
          "DEG#",
          "AC#G",
          "A#F#",
          "A#EF#",
          "ABD#",
          "C#F",
          "AC#D#",
          "AF",
          "DF#",
          "EG#",
          "D#G",
          "BG",
          "CE",
          "BD#",
          "A#D",
          "C#FG",
          "AD#G",
          "CC#F#",
          "CG#",
          "AD#E",
          "BCF",
          "BC#G",
          "BFF#",
          "AC#",
          "CEF#",
          "ADG#",
          "DD#G#",
          "A#EF",
          "AA#D#",
          "C#GG#",
          "A#EG#",
          "C#DG",
          "CF#G",
          "A#BE",
          "ABF",
          "A#G#",
          "A#CF#",
          "CDG#",
          "A#DE",
          "C#F#G",
          "DE",
          "DF#G#",
          "DGG#",
          "A#C",
          "BD#F",
          "AB",
          "C#D#",
          "CD",
          "BEF",
          "C#DG#",
          "BCF#",
          "FG",
          "AD#G#",
          "BC#",
          "EF#",
          "F#G#",
          "A#BF",
          "CFF#",
          "D#F",
          "CC#G",
          "AA#E",
          "AG",
          "A#D#E",
          "ADD#",
          "F#G",
          "BC",
          "EF",
          "DD#",
          "A#B",
          "D#E",
          "GG#",
          "FF#",
          "C#D",
          "C#DF",
          "AG#",
          "A#F#G",
          "BGG#",
          "A#BD",
          "BCD#",
          "AA#C#",
          "AA#",
          "EFG#",
          "AFF#",
          "CC#E",
          "BDD#",
          "CC#",
          "A#BG",
          "DFF#",
          "DD#F#",
          "CD#E",
          "AD#",
          "C#G",
          "CF#",
          "C#EF",
          "A#C#D",
          "D#EG",
          "AA#F#",
          "ACG#",
          "AFG#",
          "EGG#",
          "A#E",
          "BF",
          "D#F#G",
          "ACC#",
          "BCG#",
          "DG#",
          "BCC#",
          "EFF#",
          "AA#B",
          "C#DD#",
          "DD#E",
          "F#GG#",
          "FF#G",
          "A#BC",
          "D#EF",
          "AA#G#",
          "AGG#",
          "CC#D"
         ],
         "xaxis": "x",
         "y": [
          8334,
          8265,
          8104,
          8100,
          7968,
          7954,
          7871,
          7870,
          7827,
          7788,
          7744,
          7698,
          6637,
          6298,
          6297,
          6289,
          6241,
          6226,
          6217,
          6207,
          6076,
          6039,
          6022,
          5958,
          4389,
          4345,
          4308,
          4296,
          4280,
          4206,
          4168,
          4150,
          4125,
          4120,
          4000,
          3973,
          3745,
          3689,
          3688,
          3589,
          3572,
          3557,
          3552,
          3552,
          3498,
          3488,
          3487,
          3445,
          3310,
          3200,
          3195,
          3188,
          3178,
          3056,
          3054,
          3042,
          3037,
          3013,
          2942,
          2867,
          1811,
          1798,
          1770,
          1732,
          1725,
          1724,
          1721,
          1707,
          1706,
          1702,
          1701,
          1698,
          1688,
          1681,
          1680,
          1677,
          1672,
          1663,
          1661,
          1657,
          1653,
          1640,
          1637,
          1619,
          1615,
          1615,
          1613,
          1603,
          1594,
          1587,
          1586,
          1581,
          1556,
          1549,
          1548,
          1547,
          1538,
          1534,
          1529,
          1525,
          1514,
          1507,
          1507,
          1495,
          1486,
          1479,
          1468,
          1461,
          1459,
          1459,
          1453,
          1440,
          1437,
          1408,
          1399,
          1359,
          1354,
          1347,
          1337,
          1330,
          1326,
          1311,
          1296,
          1296,
          1294,
          1290,
          1280,
          1280,
          1274,
          1243,
          1241,
          1236,
          1233,
          1232,
          1230,
          1227,
          1224,
          1224,
          1223,
          1209,
          1190,
          1183,
          1178,
          1163,
          1157,
          1125,
          1089,
          1072,
          1025,
          1019,
          967,
          964,
          962,
          962,
          954,
          942,
          942,
          936,
          936,
          932,
          923,
          912,
          908,
          904,
          895,
          890,
          881,
          875,
          873,
          873,
          872,
          868,
          867,
          867,
          867,
          865,
          865,
          856,
          850,
          847,
          835,
          832,
          806,
          803,
          787,
          779,
          774,
          771,
          767,
          763,
          761,
          758,
          757,
          750,
          750,
          747,
          740,
          740,
          738,
          738,
          733,
          730,
          722,
          718,
          712,
          699,
          693,
          692,
          690,
          688,
          683,
          671,
          658,
          655,
          647,
          643,
          639,
          628,
          625,
          618,
          608,
          592,
          590,
          588,
          585,
          582,
          578,
          577,
          577,
          571,
          569,
          568,
          559,
          552,
          550,
          548,
          535,
          533,
          522,
          511,
          510,
          505,
          504,
          471,
          459,
          426,
          400,
          398,
          397,
          390,
          389,
          358,
          358,
          347,
          343,
          342,
          342,
          334,
          332,
          329,
          329,
          327,
          321,
          306,
          305,
          304,
          301,
          293,
          293,
          288,
          287,
          287,
          285,
          279,
          279,
          277,
          277,
          277,
          272,
          271,
          271,
          262,
          259,
          255,
          255,
          252,
          247,
          242,
          235,
          233,
          230,
          223,
          213,
          209,
          206,
          199,
          194,
          169
         ],
         "yaxis": "y"
        }
       ],
       "layout": {
        "barmode": "relative",
        "coloraxis": {
         "colorbar": {
          "title": {
           "text": "count"
          }
         },
         "colorscale": [
          [
           0,
           "#0d0887"
          ],
          [
           0.1111111111111111,
           "#46039f"
          ],
          [
           0.2222222222222222,
           "#7201a8"
          ],
          [
           0.3333333333333333,
           "#9c179e"
          ],
          [
           0.4444444444444444,
           "#bd3786"
          ],
          [
           0.5555555555555556,
           "#d8576b"
          ],
          [
           0.6666666666666666,
           "#ed7953"
          ],
          [
           0.7777777777777778,
           "#fb9f3a"
          ],
          [
           0.8888888888888888,
           "#fdca26"
          ],
          [
           1,
           "#f0f921"
          ]
         ]
        },
        "legend": {
         "tracegroupgap": 0
        },
        "margin": {
         "t": 60
        },
        "template": {
         "data": {
          "bar": [
           {
            "error_x": {
             "color": "#2a3f5f"
            },
            "error_y": {
             "color": "#2a3f5f"
            },
            "marker": {
             "line": {
              "color": "#E5ECF6",
              "width": 0.5
             },
             "pattern": {
              "fillmode": "overlay",
              "size": 10,
              "solidity": 0.2
             }
            },
            "type": "bar"
           }
          ],
          "barpolar": [
           {
            "marker": {
             "line": {
              "color": "#E5ECF6",
              "width": 0.5
             },
             "pattern": {
              "fillmode": "overlay",
              "size": 10,
              "solidity": 0.2
             }
            },
            "type": "barpolar"
           }
          ],
          "carpet": [
           {
            "aaxis": {
             "endlinecolor": "#2a3f5f",
             "gridcolor": "white",
             "linecolor": "white",
             "minorgridcolor": "white",
             "startlinecolor": "#2a3f5f"
            },
            "baxis": {
             "endlinecolor": "#2a3f5f",
             "gridcolor": "white",
             "linecolor": "white",
             "minorgridcolor": "white",
             "startlinecolor": "#2a3f5f"
            },
            "type": "carpet"
           }
          ],
          "choropleth": [
           {
            "colorbar": {
             "outlinewidth": 0,
             "ticks": ""
            },
            "type": "choropleth"
           }
          ],
          "contour": [
           {
            "colorbar": {
             "outlinewidth": 0,
             "ticks": ""
            },
            "colorscale": [
             [
              0,
              "#0d0887"
             ],
             [
              0.1111111111111111,
              "#46039f"
             ],
             [
              0.2222222222222222,
              "#7201a8"
             ],
             [
              0.3333333333333333,
              "#9c179e"
             ],
             [
              0.4444444444444444,
              "#bd3786"
             ],
             [
              0.5555555555555556,
              "#d8576b"
             ],
             [
              0.6666666666666666,
              "#ed7953"
             ],
             [
              0.7777777777777778,
              "#fb9f3a"
             ],
             [
              0.8888888888888888,
              "#fdca26"
             ],
             [
              1,
              "#f0f921"
             ]
            ],
            "type": "contour"
           }
          ],
          "contourcarpet": [
           {
            "colorbar": {
             "outlinewidth": 0,
             "ticks": ""
            },
            "type": "contourcarpet"
           }
          ],
          "heatmap": [
           {
            "colorbar": {
             "outlinewidth": 0,
             "ticks": ""
            },
            "colorscale": [
             [
              0,
              "#0d0887"
             ],
             [
              0.1111111111111111,
              "#46039f"
             ],
             [
              0.2222222222222222,
              "#7201a8"
             ],
             [
              0.3333333333333333,
              "#9c179e"
             ],
             [
              0.4444444444444444,
              "#bd3786"
             ],
             [
              0.5555555555555556,
              "#d8576b"
             ],
             [
              0.6666666666666666,
              "#ed7953"
             ],
             [
              0.7777777777777778,
              "#fb9f3a"
             ],
             [
              0.8888888888888888,
              "#fdca26"
             ],
             [
              1,
              "#f0f921"
             ]
            ],
            "type": "heatmap"
           }
          ],
          "heatmapgl": [
           {
            "colorbar": {
             "outlinewidth": 0,
             "ticks": ""
            },
            "colorscale": [
             [
              0,
              "#0d0887"
             ],
             [
              0.1111111111111111,
              "#46039f"
             ],
             [
              0.2222222222222222,
              "#7201a8"
             ],
             [
              0.3333333333333333,
              "#9c179e"
             ],
             [
              0.4444444444444444,
              "#bd3786"
             ],
             [
              0.5555555555555556,
              "#d8576b"
             ],
             [
              0.6666666666666666,
              "#ed7953"
             ],
             [
              0.7777777777777778,
              "#fb9f3a"
             ],
             [
              0.8888888888888888,
              "#fdca26"
             ],
             [
              1,
              "#f0f921"
             ]
            ],
            "type": "heatmapgl"
           }
          ],
          "histogram": [
           {
            "marker": {
             "pattern": {
              "fillmode": "overlay",
              "size": 10,
              "solidity": 0.2
             }
            },
            "type": "histogram"
           }
          ],
          "histogram2d": [
           {
            "colorbar": {
             "outlinewidth": 0,
             "ticks": ""
            },
            "colorscale": [
             [
              0,
              "#0d0887"
             ],
             [
              0.1111111111111111,
              "#46039f"
             ],
             [
              0.2222222222222222,
              "#7201a8"
             ],
             [
              0.3333333333333333,
              "#9c179e"
             ],
             [
              0.4444444444444444,
              "#bd3786"
             ],
             [
              0.5555555555555556,
              "#d8576b"
             ],
             [
              0.6666666666666666,
              "#ed7953"
             ],
             [
              0.7777777777777778,
              "#fb9f3a"
             ],
             [
              0.8888888888888888,
              "#fdca26"
             ],
             [
              1,
              "#f0f921"
             ]
            ],
            "type": "histogram2d"
           }
          ],
          "histogram2dcontour": [
           {
            "colorbar": {
             "outlinewidth": 0,
             "ticks": ""
            },
            "colorscale": [
             [
              0,
              "#0d0887"
             ],
             [
              0.1111111111111111,
              "#46039f"
             ],
             [
              0.2222222222222222,
              "#7201a8"
             ],
             [
              0.3333333333333333,
              "#9c179e"
             ],
             [
              0.4444444444444444,
              "#bd3786"
             ],
             [
              0.5555555555555556,
              "#d8576b"
             ],
             [
              0.6666666666666666,
              "#ed7953"
             ],
             [
              0.7777777777777778,
              "#fb9f3a"
             ],
             [
              0.8888888888888888,
              "#fdca26"
             ],
             [
              1,
              "#f0f921"
             ]
            ],
            "type": "histogram2dcontour"
           }
          ],
          "mesh3d": [
           {
            "colorbar": {
             "outlinewidth": 0,
             "ticks": ""
            },
            "type": "mesh3d"
           }
          ],
          "parcoords": [
           {
            "line": {
             "colorbar": {
              "outlinewidth": 0,
              "ticks": ""
             }
            },
            "type": "parcoords"
           }
          ],
          "pie": [
           {
            "automargin": true,
            "type": "pie"
           }
          ],
          "scatter": [
           {
            "fillpattern": {
             "fillmode": "overlay",
             "size": 10,
             "solidity": 0.2
            },
            "type": "scatter"
           }
          ],
          "scatter3d": [
           {
            "line": {
             "colorbar": {
              "outlinewidth": 0,
              "ticks": ""
             }
            },
            "marker": {
             "colorbar": {
              "outlinewidth": 0,
              "ticks": ""
             }
            },
            "type": "scatter3d"
           }
          ],
          "scattercarpet": [
           {
            "marker": {
             "colorbar": {
              "outlinewidth": 0,
              "ticks": ""
             }
            },
            "type": "scattercarpet"
           }
          ],
          "scattergeo": [
           {
            "marker": {
             "colorbar": {
              "outlinewidth": 0,
              "ticks": ""
             }
            },
            "type": "scattergeo"
           }
          ],
          "scattergl": [
           {
            "marker": {
             "colorbar": {
              "outlinewidth": 0,
              "ticks": ""
             }
            },
            "type": "scattergl"
           }
          ],
          "scattermapbox": [
           {
            "marker": {
             "colorbar": {
              "outlinewidth": 0,
              "ticks": ""
             }
            },
            "type": "scattermapbox"
           }
          ],
          "scatterpolar": [
           {
            "marker": {
             "colorbar": {
              "outlinewidth": 0,
              "ticks": ""
             }
            },
            "type": "scatterpolar"
           }
          ],
          "scatterpolargl": [
           {
            "marker": {
             "colorbar": {
              "outlinewidth": 0,
              "ticks": ""
             }
            },
            "type": "scatterpolargl"
           }
          ],
          "scatterternary": [
           {
            "marker": {
             "colorbar": {
              "outlinewidth": 0,
              "ticks": ""
             }
            },
            "type": "scatterternary"
           }
          ],
          "surface": [
           {
            "colorbar": {
             "outlinewidth": 0,
             "ticks": ""
            },
            "colorscale": [
             [
              0,
              "#0d0887"
             ],
             [
              0.1111111111111111,
              "#46039f"
             ],
             [
              0.2222222222222222,
              "#7201a8"
             ],
             [
              0.3333333333333333,
              "#9c179e"
             ],
             [
              0.4444444444444444,
              "#bd3786"
             ],
             [
              0.5555555555555556,
              "#d8576b"
             ],
             [
              0.6666666666666666,
              "#ed7953"
             ],
             [
              0.7777777777777778,
              "#fb9f3a"
             ],
             [
              0.8888888888888888,
              "#fdca26"
             ],
             [
              1,
              "#f0f921"
             ]
            ],
            "type": "surface"
           }
          ],
          "table": [
           {
            "cells": {
             "fill": {
              "color": "#EBF0F8"
             },
             "line": {
              "color": "white"
             }
            },
            "header": {
             "fill": {
              "color": "#C8D4E3"
             },
             "line": {
              "color": "white"
             }
            },
            "type": "table"
           }
          ]
         },
         "layout": {
          "annotationdefaults": {
           "arrowcolor": "#2a3f5f",
           "arrowhead": 0,
           "arrowwidth": 1
          },
          "autotypenumbers": "strict",
          "coloraxis": {
           "colorbar": {
            "outlinewidth": 0,
            "ticks": ""
           }
          },
          "colorscale": {
           "diverging": [
            [
             0,
             "#8e0152"
            ],
            [
             0.1,
             "#c51b7d"
            ],
            [
             0.2,
             "#de77ae"
            ],
            [
             0.3,
             "#f1b6da"
            ],
            [
             0.4,
             "#fde0ef"
            ],
            [
             0.5,
             "#f7f7f7"
            ],
            [
             0.6,
             "#e6f5d0"
            ],
            [
             0.7,
             "#b8e186"
            ],
            [
             0.8,
             "#7fbc41"
            ],
            [
             0.9,
             "#4d9221"
            ],
            [
             1,
             "#276419"
            ]
           ],
           "sequential": [
            [
             0,
             "#0d0887"
            ],
            [
             0.1111111111111111,
             "#46039f"
            ],
            [
             0.2222222222222222,
             "#7201a8"
            ],
            [
             0.3333333333333333,
             "#9c179e"
            ],
            [
             0.4444444444444444,
             "#bd3786"
            ],
            [
             0.5555555555555556,
             "#d8576b"
            ],
            [
             0.6666666666666666,
             "#ed7953"
            ],
            [
             0.7777777777777778,
             "#fb9f3a"
            ],
            [
             0.8888888888888888,
             "#fdca26"
            ],
            [
             1,
             "#f0f921"
            ]
           ],
           "sequentialminus": [
            [
             0,
             "#0d0887"
            ],
            [
             0.1111111111111111,
             "#46039f"
            ],
            [
             0.2222222222222222,
             "#7201a8"
            ],
            [
             0.3333333333333333,
             "#9c179e"
            ],
            [
             0.4444444444444444,
             "#bd3786"
            ],
            [
             0.5555555555555556,
             "#d8576b"
            ],
            [
             0.6666666666666666,
             "#ed7953"
            ],
            [
             0.7777777777777778,
             "#fb9f3a"
            ],
            [
             0.8888888888888888,
             "#fdca26"
            ],
            [
             1,
             "#f0f921"
            ]
           ]
          },
          "colorway": [
           "#636efa",
           "#EF553B",
           "#00cc96",
           "#ab63fa",
           "#FFA15A",
           "#19d3f3",
           "#FF6692",
           "#B6E880",
           "#FF97FF",
           "#FECB52"
          ],
          "font": {
           "color": "#2a3f5f"
          },
          "geo": {
           "bgcolor": "white",
           "lakecolor": "white",
           "landcolor": "#E5ECF6",
           "showlakes": true,
           "showland": true,
           "subunitcolor": "white"
          },
          "hoverlabel": {
           "align": "left"
          },
          "hovermode": "closest",
          "mapbox": {
           "style": "light"
          },
          "paper_bgcolor": "white",
          "plot_bgcolor": "#E5ECF6",
          "polar": {
           "angularaxis": {
            "gridcolor": "white",
            "linecolor": "white",
            "ticks": ""
           },
           "bgcolor": "#E5ECF6",
           "radialaxis": {
            "gridcolor": "white",
            "linecolor": "white",
            "ticks": ""
           }
          },
          "scene": {
           "xaxis": {
            "backgroundcolor": "#E5ECF6",
            "gridcolor": "white",
            "gridwidth": 2,
            "linecolor": "white",
            "showbackground": true,
            "ticks": "",
            "zerolinecolor": "white"
           },
           "yaxis": {
            "backgroundcolor": "#E5ECF6",
            "gridcolor": "white",
            "gridwidth": 2,
            "linecolor": "white",
            "showbackground": true,
            "ticks": "",
            "zerolinecolor": "white"
           },
           "zaxis": {
            "backgroundcolor": "#E5ECF6",
            "gridcolor": "white",
            "gridwidth": 2,
            "linecolor": "white",
            "showbackground": true,
            "ticks": "",
            "zerolinecolor": "white"
           }
          },
          "shapedefaults": {
           "line": {
            "color": "#2a3f5f"
           }
          },
          "ternary": {
           "aaxis": {
            "gridcolor": "white",
            "linecolor": "white",
            "ticks": ""
           },
           "baxis": {
            "gridcolor": "white",
            "linecolor": "white",
            "ticks": ""
           },
           "bgcolor": "#E5ECF6",
           "caxis": {
            "gridcolor": "white",
            "linecolor": "white",
            "ticks": ""
           }
          },
          "title": {
           "x": 0.05
          },
          "xaxis": {
           "automargin": true,
           "gridcolor": "white",
           "linecolor": "white",
           "ticks": "",
           "title": {
            "standoff": 15
           },
           "zerolinecolor": "white",
           "zerolinewidth": 2
          },
          "yaxis": {
           "automargin": true,
           "gridcolor": "white",
           "linecolor": "white",
           "ticks": "",
           "title": {
            "standoff": 15
           },
           "zerolinecolor": "white",
           "zerolinewidth": 2
          }
         }
        },
        "xaxis": {
         "anchor": "y",
         "domain": [
          0,
          1
         ],
         "title": {
          "text": "chord"
         }
        },
        "yaxis": {
         "anchor": "x",
         "domain": [
          0,
          1
         ],
         "title": {
          "text": "count"
         }
        }
       }
      }
     },
     "metadata": {},
     "output_type": "display_data"
    }
   ],
   "source": [
    "fig = px.bar(chord_counts_df, x='chord', y='count', color='count')\n",
    "fig.show()"
   ]
  }
 ],
 "metadata": {
  "kernelspec": {
   "display_name": "Python 3",
   "language": "python",
   "name": "python3"
  },
  "language_info": {
   "codemirror_mode": {
    "name": "ipython",
    "version": 3
   },
   "file_extension": ".py",
   "mimetype": "text/x-python",
   "name": "python",
   "nbconvert_exporter": "python",
   "pygments_lexer": "ipython3",
   "version": "3.10.6"
  },
  "orig_nbformat": 4,
  "vscode": {
   "interpreter": {
    "hash": "bb1cd77efc362c1067be37b2db7d4159e0c7f871d479a5e23c1f1747c4472ddf"
   }
  }
 },
 "nbformat": 4,
 "nbformat_minor": 2
}
