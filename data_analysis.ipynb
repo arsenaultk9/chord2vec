{
 "cells": [
  {
   "attachments": {},
   "cell_type": "markdown",
   "metadata": {},
   "source": [
    "# Data loading"
   ]
  },
  {
   "cell_type": "code",
   "execution_count": 5,
   "metadata": {},
   "outputs": [],
   "source": [
    "import pickle\n",
    "import numpy as np\n",
    "import pandas as pd\n",
    "import plotly.express as px\n",
    "\n",
    "with open('./data/training_data_small_augmented.pkl', 'rb') as file:\n",
    "        data = pickle.load(file, encoding=\"latin1\")\n",
    "\n",
    "vocabulary = data['chords_vocabulary']"
   ]
  },
  {
   "attachments": {},
   "cell_type": "markdown",
   "metadata": {},
   "source": [
    "# Get chord statistics"
   ]
  },
  {
   "cell_type": "code",
   "execution_count": 6,
   "metadata": {},
   "outputs": [],
   "source": [
    "all_chords = []\n",
    "\n",
    "for song in data['train']:\n",
    "    all_chords += song\n",
    "\n",
    "chord_counts_indices = dict()\n",
    "\n",
    "# chord count from index\n",
    "for chord in all_chords:\n",
    "    if chord not in chord_counts_indices:\n",
    "        chord_counts_indices[chord] = 0\n",
    "\n",
    "    chord_counts_indices[chord] += 1\n",
    "\n",
    "# chord count from name\n",
    "chord_counts = dict()\n",
    "\n",
    "for chord_index, count in chord_counts_indices.items():\n",
    "    chord = vocabulary.indexes_to_chords[chord_index]\n",
    "    chord_notes = ''.join(sorted(chord.note_suffixes))\n",
    "\n",
    "    chord_counts[chord_notes] = count\n",
    "\n",
    "chord_counts = dict(sorted(chord_counts.items(), key = lambda x: x[1], reverse = True))"
   ]
  },
  {
   "attachments": {},
   "cell_type": "markdown",
   "metadata": {},
   "source": [
    "# Visualize data"
   ]
  },
  {
   "cell_type": "code",
   "execution_count": 7,
   "metadata": {},
   "outputs": [
    {
     "name": "stdout",
     "output_type": "stream",
     "text": [
      "min value: 1\n",
      "mean value: 32\n",
      "max value: 146\n",
      "294/298 total chords\n"
     ]
    }
   ],
   "source": [
    "print(f'min value: {min(chord_counts.values())}')\n",
    "print(f'mean value: {int(sum(chord_counts.values()) / len(chord_counts.values())) }')\n",
    "print(f'max value: {max(chord_counts.values())}')\n",
    "\n",
    "chord_counts_df = pd.DataFrame(chord_counts.items(), columns=['chord', 'count'])\n",
    "chord_counts_df.head()\n",
    "print(f'{chord_counts_df.shape[0]}/{len(vocabulary.indexes_to_chords)} total chords')\n"
   ]
  },
  {
   "cell_type": "code",
   "execution_count": 8,
   "metadata": {},
   "outputs": [
    {
     "data": {
      "application/vnd.plotly.v1+json": {
       "config": {
        "plotlyServerURL": "https://plot.ly"
       },
       "data": [
        {
         "alignmentgroup": "True",
         "hovertemplate": "chord=%{x}<br>count=%{marker.color}<extra></extra>",
         "legendgroup": "",
         "marker": {
          "color": [
           146,
           136,
           136,
           132,
           130,
           128,
           125,
           125,
           121,
           119,
           113,
           108,
           105,
           102,
           98,
           97,
           96,
           93,
           93,
           90,
           87,
           84,
           81,
           81,
           80,
           80,
           79,
           77,
           77,
           77,
           77,
           75,
           75,
           75,
           74,
           72,
           72,
           71,
           71,
           70,
           70,
           70,
           70,
           70,
           66,
           64,
           64,
           64,
           63,
           62,
           61,
           60,
           59,
           59,
           59,
           58,
           58,
           57,
           57,
           57,
           57,
           56,
           56,
           55,
           53,
           52,
           52,
           52,
           49,
           49,
           49,
           49,
           47,
           47,
           47,
           46,
           46,
           46,
           46,
           45,
           45,
           45,
           44,
           44,
           44,
           43,
           43,
           43,
           43,
           43,
           42,
           42,
           42,
           41,
           41,
           41,
           41,
           40,
           38,
           37,
           37,
           37,
           36,
           36,
           36,
           35,
           35,
           34,
           33,
           33,
           32,
           32,
           31,
           31,
           31,
           30,
           30,
           29,
           29,
           29,
           28,
           27,
           26,
           26,
           25,
           24,
           24,
           23,
           22,
           22,
           22,
           22,
           21,
           21,
           21,
           20,
           20,
           20,
           20,
           20,
           20,
           20,
           19,
           19,
           19,
           19,
           18,
           18,
           18,
           18,
           18,
           18,
           18,
           18,
           18,
           18,
           17,
           17,
           16,
           16,
           16,
           16,
           16,
           16,
           16,
           16,
           16,
           16,
           16,
           16,
           16,
           15,
           15,
           15,
           15,
           15,
           15,
           15,
           14,
           14,
           14,
           14,
           14,
           14,
           14,
           13,
           13,
           13,
           13,
           13,
           13,
           13,
           13,
           13,
           13,
           13,
           12,
           12,
           12,
           12,
           12,
           12,
           12,
           12,
           11,
           11,
           11,
           11,
           11,
           11,
           11,
           10,
           10,
           10,
           10,
           10,
           9,
           9,
           9,
           9,
           9,
           9,
           8,
           8,
           8,
           8,
           8,
           8,
           8,
           7,
           7,
           7,
           7,
           7,
           7,
           7,
           6,
           6,
           6,
           6,
           6,
           6,
           6,
           5,
           5,
           5,
           5,
           5,
           5,
           4,
           4,
           4,
           4,
           4,
           4,
           4,
           4,
           4,
           4,
           4,
           3,
           3,
           3,
           3,
           3,
           3,
           3,
           3,
           3,
           3,
           3,
           3,
           3,
           3,
           3,
           3,
           3,
           3,
           2,
           2,
           2,
           2,
           2,
           2,
           2,
           2,
           2,
           2,
           2,
           1,
           1,
           1,
           1,
           1
          ],
          "coloraxis": "coloraxis",
          "pattern": {
           "shape": ""
          }
         },
         "name": "",
         "offsetgroup": "",
         "orientation": "v",
         "showlegend": false,
         "textposition": "auto",
         "type": "bar",
         "x": [
          "BDG",
          "CEG",
          "ACF",
          "C#FG#",
          "BEG#",
          "A#DF",
          "CD#G#",
          "AC#E",
          "A#C#F#",
          "ADF#",
          "A#D#G",
          "BD#F#",
          "C#D#F#",
          "ACG",
          "BEG",
          "BDF#",
          "ACE",
          "A#D#F#",
          "AEG",
          "ADF",
          "A#C#F",
          "A#FG#",
          "ABD",
          "AC#F#",
          "CDF",
          "ACD",
          "DEG",
          "CD#G",
          "AFG",
          "A#CD#",
          "CD#F",
          "A#CD",
          "AEF#",
          "BDE",
          "BF#G#",
          "C#EG#",
          "A#DG",
          "D#F#G#",
          "CFG#",
          "BD#G#",
          "ABE",
          "DFG",
          "A#C#G#",
          "A#C#D#",
          "ABG",
          "CDE",
          "DEF#",
          "BC#D",
          "EF#G",
          "ABF#",
          "D#FG#",
          "A#FG",
          "AA#G",
          "A#CG",
          "ABC#",
          "D#FF#",
          "BEF#",
          "ABC",
          "C#EF#",
          "A#CF",
          "CDD#",
          "D#FG",
          "BC#G#",
          "ADE",
          "CD",
          "ADG",
          "FG",
          "DD#",
          "A#D#F",
          "DEF",
          "AA#C",
          "AF#G",
          "BCD",
          "CFG",
          "DD#F",
          "A#D#G#",
          "BDF",
          "A#BG#",
          "EF#G#",
          "A#C",
          "C#F#G#",
          "AF#G#",
          "A#EG",
          "ACD#",
          "BDG#",
          "ACF#",
          "C#DE",
          "BC#E",
          "BC#D#",
          "C#D#E",
          "FF#G#",
          "C#D#G#",
          "BC#F#",
          "D#F",
          "A#G#",
          "DFG#",
          "FGG#",
          "A#F#G#",
          "A#CG#",
          "CDG",
          "A#F",
          "AD#F#",
          "BG#",
          "ABG#",
          "A#BC#",
          "EFG",
          "AG",
          "DE",
          "C#EG",
          "A#GG#",
          "AA#D",
          "BFG#",
          "A#C#G",
          "C#D#",
          "C#D#F",
          "A#D#",
          "A#CC#",
          "AB",
          "D#F#",
          "D#EF#",
          "CD#F#",
          "AD",
          "C#F",
          "F",
          "CF",
          "CC#D#",
          "BC",
          "A#D",
          "AEF",
          "AC",
          "F#G",
          "C#G#",
          "A#DD#",
          "AC#",
          "A#C#E",
          "AF",
          "DG",
          "AA#F",
          "FF#",
          "DF#",
          "AG#",
          "BF#G",
          "BC#",
          "AA#",
          "AEG#",
          "F#",
          "A#FF#",
          "DD#G",
          "EG",
          "BFG",
          "D#G",
          "A#",
          "CEF#",
          "D#G#",
          "EF#",
          "AE",
          "CEF",
          "BG",
          "BD#",
          "A#B",
          "A#F#",
          "BCE",
          "C#E",
          "CE",
          "G",
          "BCG",
          "GG#",
          "D#GG#",
          "CD#",
          "C#F#",
          "AF#",
          "D",
          "CG",
          "DF#G",
          "A#F#G",
          "CDF#",
          "D#E",
          "A",
          "CGG#",
          "CEG#",
          "BD#G",
          "C",
          "AC#D",
          "F#G#",
          "EG#",
          "DD#F#",
          "DF",
          "ABF",
          "A#E",
          "A#G",
          "CC#",
          "B",
          "AD#G",
          "C#D",
          "DF#G#",
          "BF#",
          "BD",
          "BD#E",
          "A#CE",
          "AD#F",
          "C#FF#",
          "AC#D#",
          "BF",
          "CC#G#",
          "D#",
          "BC#G",
          "C#",
          "A#C#",
          "A#BF#",
          "A#DG#",
          "AC#G#",
          "BE",
          "AA#C#",
          "A#BD#",
          "C#DF#",
          "ABD#",
          "EF",
          "CC#E",
          "D#EG#",
          "G#",
          "FG#",
          "DG#",
          "CG#",
          "AC#F",
          "A#DE",
          "C#DF",
          "AD#",
          "CDG#",
          "BFF#",
          "CF#",
          "CF#G",
          "CC#F",
          "A#BD",
          "DEG#",
          "BGG#",
          "BD#F",
          "EFG#",
          "CFF#",
          "D#EG",
          "CC#G",
          "AD#E",
          "C#F#G",
          "A#DF#",
          "E",
          "BCF",
          "C#G",
          "CD#E",
          "AFF#",
          "EGG#",
          "CC#F#",
          "C#D#G",
          "DD#E",
          "A#CF#",
          "A#BF",
          "AC#G",
          "AA#E",
          "ADG#",
          "A#BE",
          "A#D#E",
          "BC#F",
          "AGG#",
          "C#DG#",
          "AA#G#",
          "C#GG#",
          "AA#B",
          "AD#G#",
          "A#EG#",
          "BDD#",
          "BCD#",
          "DFF#",
          "DGG#",
          "AA#F#",
          "A#BG",
          "C#DG",
          "AFG#",
          "FF#G",
          "A#BC",
          "A#EF",
          "C#FG",
          "CF#G#",
          "BCG#",
          "D#F#G",
          "C#DD#",
          "ACC#",
          "CC#D",
          "AA#D#",
          "BCC#",
          "BEF",
          "ACG#",
          "D#EF",
          "C#EF",
          "EFF#",
          "F#GG#",
          "DD#G#"
         ],
         "xaxis": "x",
         "y": [
          146,
          136,
          136,
          132,
          130,
          128,
          125,
          125,
          121,
          119,
          113,
          108,
          105,
          102,
          98,
          97,
          96,
          93,
          93,
          90,
          87,
          84,
          81,
          81,
          80,
          80,
          79,
          77,
          77,
          77,
          77,
          75,
          75,
          75,
          74,
          72,
          72,
          71,
          71,
          70,
          70,
          70,
          70,
          70,
          66,
          64,
          64,
          64,
          63,
          62,
          61,
          60,
          59,
          59,
          59,
          58,
          58,
          57,
          57,
          57,
          57,
          56,
          56,
          55,
          53,
          52,
          52,
          52,
          49,
          49,
          49,
          49,
          47,
          47,
          47,
          46,
          46,
          46,
          46,
          45,
          45,
          45,
          44,
          44,
          44,
          43,
          43,
          43,
          43,
          43,
          42,
          42,
          42,
          41,
          41,
          41,
          41,
          40,
          38,
          37,
          37,
          37,
          36,
          36,
          36,
          35,
          35,
          34,
          33,
          33,
          32,
          32,
          31,
          31,
          31,
          30,
          30,
          29,
          29,
          29,
          28,
          27,
          26,
          26,
          25,
          24,
          24,
          23,
          22,
          22,
          22,
          22,
          21,
          21,
          21,
          20,
          20,
          20,
          20,
          20,
          20,
          20,
          19,
          19,
          19,
          19,
          18,
          18,
          18,
          18,
          18,
          18,
          18,
          18,
          18,
          18,
          17,
          17,
          16,
          16,
          16,
          16,
          16,
          16,
          16,
          16,
          16,
          16,
          16,
          16,
          16,
          15,
          15,
          15,
          15,
          15,
          15,
          15,
          14,
          14,
          14,
          14,
          14,
          14,
          14,
          13,
          13,
          13,
          13,
          13,
          13,
          13,
          13,
          13,
          13,
          13,
          12,
          12,
          12,
          12,
          12,
          12,
          12,
          12,
          11,
          11,
          11,
          11,
          11,
          11,
          11,
          10,
          10,
          10,
          10,
          10,
          9,
          9,
          9,
          9,
          9,
          9,
          8,
          8,
          8,
          8,
          8,
          8,
          8,
          7,
          7,
          7,
          7,
          7,
          7,
          7,
          6,
          6,
          6,
          6,
          6,
          6,
          6,
          5,
          5,
          5,
          5,
          5,
          5,
          4,
          4,
          4,
          4,
          4,
          4,
          4,
          4,
          4,
          4,
          4,
          3,
          3,
          3,
          3,
          3,
          3,
          3,
          3,
          3,
          3,
          3,
          3,
          3,
          3,
          3,
          3,
          3,
          3,
          2,
          2,
          2,
          2,
          2,
          2,
          2,
          2,
          2,
          2,
          2,
          1,
          1,
          1,
          1,
          1
         ],
         "yaxis": "y"
        }
       ],
       "layout": {
        "barmode": "relative",
        "coloraxis": {
         "colorbar": {
          "title": {
           "text": "count"
          }
         },
         "colorscale": [
          [
           0,
           "#0d0887"
          ],
          [
           0.1111111111111111,
           "#46039f"
          ],
          [
           0.2222222222222222,
           "#7201a8"
          ],
          [
           0.3333333333333333,
           "#9c179e"
          ],
          [
           0.4444444444444444,
           "#bd3786"
          ],
          [
           0.5555555555555556,
           "#d8576b"
          ],
          [
           0.6666666666666666,
           "#ed7953"
          ],
          [
           0.7777777777777778,
           "#fb9f3a"
          ],
          [
           0.8888888888888888,
           "#fdca26"
          ],
          [
           1,
           "#f0f921"
          ]
         ]
        },
        "legend": {
         "tracegroupgap": 0
        },
        "margin": {
         "t": 60
        },
        "template": {
         "data": {
          "bar": [
           {
            "error_x": {
             "color": "#2a3f5f"
            },
            "error_y": {
             "color": "#2a3f5f"
            },
            "marker": {
             "line": {
              "color": "#E5ECF6",
              "width": 0.5
             },
             "pattern": {
              "fillmode": "overlay",
              "size": 10,
              "solidity": 0.2
             }
            },
            "type": "bar"
           }
          ],
          "barpolar": [
           {
            "marker": {
             "line": {
              "color": "#E5ECF6",
              "width": 0.5
             },
             "pattern": {
              "fillmode": "overlay",
              "size": 10,
              "solidity": 0.2
             }
            },
            "type": "barpolar"
           }
          ],
          "carpet": [
           {
            "aaxis": {
             "endlinecolor": "#2a3f5f",
             "gridcolor": "white",
             "linecolor": "white",
             "minorgridcolor": "white",
             "startlinecolor": "#2a3f5f"
            },
            "baxis": {
             "endlinecolor": "#2a3f5f",
             "gridcolor": "white",
             "linecolor": "white",
             "minorgridcolor": "white",
             "startlinecolor": "#2a3f5f"
            },
            "type": "carpet"
           }
          ],
          "choropleth": [
           {
            "colorbar": {
             "outlinewidth": 0,
             "ticks": ""
            },
            "type": "choropleth"
           }
          ],
          "contour": [
           {
            "colorbar": {
             "outlinewidth": 0,
             "ticks": ""
            },
            "colorscale": [
             [
              0,
              "#0d0887"
             ],
             [
              0.1111111111111111,
              "#46039f"
             ],
             [
              0.2222222222222222,
              "#7201a8"
             ],
             [
              0.3333333333333333,
              "#9c179e"
             ],
             [
              0.4444444444444444,
              "#bd3786"
             ],
             [
              0.5555555555555556,
              "#d8576b"
             ],
             [
              0.6666666666666666,
              "#ed7953"
             ],
             [
              0.7777777777777778,
              "#fb9f3a"
             ],
             [
              0.8888888888888888,
              "#fdca26"
             ],
             [
              1,
              "#f0f921"
             ]
            ],
            "type": "contour"
           }
          ],
          "contourcarpet": [
           {
            "colorbar": {
             "outlinewidth": 0,
             "ticks": ""
            },
            "type": "contourcarpet"
           }
          ],
          "heatmap": [
           {
            "colorbar": {
             "outlinewidth": 0,
             "ticks": ""
            },
            "colorscale": [
             [
              0,
              "#0d0887"
             ],
             [
              0.1111111111111111,
              "#46039f"
             ],
             [
              0.2222222222222222,
              "#7201a8"
             ],
             [
              0.3333333333333333,
              "#9c179e"
             ],
             [
              0.4444444444444444,
              "#bd3786"
             ],
             [
              0.5555555555555556,
              "#d8576b"
             ],
             [
              0.6666666666666666,
              "#ed7953"
             ],
             [
              0.7777777777777778,
              "#fb9f3a"
             ],
             [
              0.8888888888888888,
              "#fdca26"
             ],
             [
              1,
              "#f0f921"
             ]
            ],
            "type": "heatmap"
           }
          ],
          "heatmapgl": [
           {
            "colorbar": {
             "outlinewidth": 0,
             "ticks": ""
            },
            "colorscale": [
             [
              0,
              "#0d0887"
             ],
             [
              0.1111111111111111,
              "#46039f"
             ],
             [
              0.2222222222222222,
              "#7201a8"
             ],
             [
              0.3333333333333333,
              "#9c179e"
             ],
             [
              0.4444444444444444,
              "#bd3786"
             ],
             [
              0.5555555555555556,
              "#d8576b"
             ],
             [
              0.6666666666666666,
              "#ed7953"
             ],
             [
              0.7777777777777778,
              "#fb9f3a"
             ],
             [
              0.8888888888888888,
              "#fdca26"
             ],
             [
              1,
              "#f0f921"
             ]
            ],
            "type": "heatmapgl"
           }
          ],
          "histogram": [
           {
            "marker": {
             "pattern": {
              "fillmode": "overlay",
              "size": 10,
              "solidity": 0.2
             }
            },
            "type": "histogram"
           }
          ],
          "histogram2d": [
           {
            "colorbar": {
             "outlinewidth": 0,
             "ticks": ""
            },
            "colorscale": [
             [
              0,
              "#0d0887"
             ],
             [
              0.1111111111111111,
              "#46039f"
             ],
             [
              0.2222222222222222,
              "#7201a8"
             ],
             [
              0.3333333333333333,
              "#9c179e"
             ],
             [
              0.4444444444444444,
              "#bd3786"
             ],
             [
              0.5555555555555556,
              "#d8576b"
             ],
             [
              0.6666666666666666,
              "#ed7953"
             ],
             [
              0.7777777777777778,
              "#fb9f3a"
             ],
             [
              0.8888888888888888,
              "#fdca26"
             ],
             [
              1,
              "#f0f921"
             ]
            ],
            "type": "histogram2d"
           }
          ],
          "histogram2dcontour": [
           {
            "colorbar": {
             "outlinewidth": 0,
             "ticks": ""
            },
            "colorscale": [
             [
              0,
              "#0d0887"
             ],
             [
              0.1111111111111111,
              "#46039f"
             ],
             [
              0.2222222222222222,
              "#7201a8"
             ],
             [
              0.3333333333333333,
              "#9c179e"
             ],
             [
              0.4444444444444444,
              "#bd3786"
             ],
             [
              0.5555555555555556,
              "#d8576b"
             ],
             [
              0.6666666666666666,
              "#ed7953"
             ],
             [
              0.7777777777777778,
              "#fb9f3a"
             ],
             [
              0.8888888888888888,
              "#fdca26"
             ],
             [
              1,
              "#f0f921"
             ]
            ],
            "type": "histogram2dcontour"
           }
          ],
          "mesh3d": [
           {
            "colorbar": {
             "outlinewidth": 0,
             "ticks": ""
            },
            "type": "mesh3d"
           }
          ],
          "parcoords": [
           {
            "line": {
             "colorbar": {
              "outlinewidth": 0,
              "ticks": ""
             }
            },
            "type": "parcoords"
           }
          ],
          "pie": [
           {
            "automargin": true,
            "type": "pie"
           }
          ],
          "scatter": [
           {
            "fillpattern": {
             "fillmode": "overlay",
             "size": 10,
             "solidity": 0.2
            },
            "type": "scatter"
           }
          ],
          "scatter3d": [
           {
            "line": {
             "colorbar": {
              "outlinewidth": 0,
              "ticks": ""
             }
            },
            "marker": {
             "colorbar": {
              "outlinewidth": 0,
              "ticks": ""
             }
            },
            "type": "scatter3d"
           }
          ],
          "scattercarpet": [
           {
            "marker": {
             "colorbar": {
              "outlinewidth": 0,
              "ticks": ""
             }
            },
            "type": "scattercarpet"
           }
          ],
          "scattergeo": [
           {
            "marker": {
             "colorbar": {
              "outlinewidth": 0,
              "ticks": ""
             }
            },
            "type": "scattergeo"
           }
          ],
          "scattergl": [
           {
            "marker": {
             "colorbar": {
              "outlinewidth": 0,
              "ticks": ""
             }
            },
            "type": "scattergl"
           }
          ],
          "scattermapbox": [
           {
            "marker": {
             "colorbar": {
              "outlinewidth": 0,
              "ticks": ""
             }
            },
            "type": "scattermapbox"
           }
          ],
          "scatterpolar": [
           {
            "marker": {
             "colorbar": {
              "outlinewidth": 0,
              "ticks": ""
             }
            },
            "type": "scatterpolar"
           }
          ],
          "scatterpolargl": [
           {
            "marker": {
             "colorbar": {
              "outlinewidth": 0,
              "ticks": ""
             }
            },
            "type": "scatterpolargl"
           }
          ],
          "scatterternary": [
           {
            "marker": {
             "colorbar": {
              "outlinewidth": 0,
              "ticks": ""
             }
            },
            "type": "scatterternary"
           }
          ],
          "surface": [
           {
            "colorbar": {
             "outlinewidth": 0,
             "ticks": ""
            },
            "colorscale": [
             [
              0,
              "#0d0887"
             ],
             [
              0.1111111111111111,
              "#46039f"
             ],
             [
              0.2222222222222222,
              "#7201a8"
             ],
             [
              0.3333333333333333,
              "#9c179e"
             ],
             [
              0.4444444444444444,
              "#bd3786"
             ],
             [
              0.5555555555555556,
              "#d8576b"
             ],
             [
              0.6666666666666666,
              "#ed7953"
             ],
             [
              0.7777777777777778,
              "#fb9f3a"
             ],
             [
              0.8888888888888888,
              "#fdca26"
             ],
             [
              1,
              "#f0f921"
             ]
            ],
            "type": "surface"
           }
          ],
          "table": [
           {
            "cells": {
             "fill": {
              "color": "#EBF0F8"
             },
             "line": {
              "color": "white"
             }
            },
            "header": {
             "fill": {
              "color": "#C8D4E3"
             },
             "line": {
              "color": "white"
             }
            },
            "type": "table"
           }
          ]
         },
         "layout": {
          "annotationdefaults": {
           "arrowcolor": "#2a3f5f",
           "arrowhead": 0,
           "arrowwidth": 1
          },
          "autotypenumbers": "strict",
          "coloraxis": {
           "colorbar": {
            "outlinewidth": 0,
            "ticks": ""
           }
          },
          "colorscale": {
           "diverging": [
            [
             0,
             "#8e0152"
            ],
            [
             0.1,
             "#c51b7d"
            ],
            [
             0.2,
             "#de77ae"
            ],
            [
             0.3,
             "#f1b6da"
            ],
            [
             0.4,
             "#fde0ef"
            ],
            [
             0.5,
             "#f7f7f7"
            ],
            [
             0.6,
             "#e6f5d0"
            ],
            [
             0.7,
             "#b8e186"
            ],
            [
             0.8,
             "#7fbc41"
            ],
            [
             0.9,
             "#4d9221"
            ],
            [
             1,
             "#276419"
            ]
           ],
           "sequential": [
            [
             0,
             "#0d0887"
            ],
            [
             0.1111111111111111,
             "#46039f"
            ],
            [
             0.2222222222222222,
             "#7201a8"
            ],
            [
             0.3333333333333333,
             "#9c179e"
            ],
            [
             0.4444444444444444,
             "#bd3786"
            ],
            [
             0.5555555555555556,
             "#d8576b"
            ],
            [
             0.6666666666666666,
             "#ed7953"
            ],
            [
             0.7777777777777778,
             "#fb9f3a"
            ],
            [
             0.8888888888888888,
             "#fdca26"
            ],
            [
             1,
             "#f0f921"
            ]
           ],
           "sequentialminus": [
            [
             0,
             "#0d0887"
            ],
            [
             0.1111111111111111,
             "#46039f"
            ],
            [
             0.2222222222222222,
             "#7201a8"
            ],
            [
             0.3333333333333333,
             "#9c179e"
            ],
            [
             0.4444444444444444,
             "#bd3786"
            ],
            [
             0.5555555555555556,
             "#d8576b"
            ],
            [
             0.6666666666666666,
             "#ed7953"
            ],
            [
             0.7777777777777778,
             "#fb9f3a"
            ],
            [
             0.8888888888888888,
             "#fdca26"
            ],
            [
             1,
             "#f0f921"
            ]
           ]
          },
          "colorway": [
           "#636efa",
           "#EF553B",
           "#00cc96",
           "#ab63fa",
           "#FFA15A",
           "#19d3f3",
           "#FF6692",
           "#B6E880",
           "#FF97FF",
           "#FECB52"
          ],
          "font": {
           "color": "#2a3f5f"
          },
          "geo": {
           "bgcolor": "white",
           "lakecolor": "white",
           "landcolor": "#E5ECF6",
           "showlakes": true,
           "showland": true,
           "subunitcolor": "white"
          },
          "hoverlabel": {
           "align": "left"
          },
          "hovermode": "closest",
          "mapbox": {
           "style": "light"
          },
          "paper_bgcolor": "white",
          "plot_bgcolor": "#E5ECF6",
          "polar": {
           "angularaxis": {
            "gridcolor": "white",
            "linecolor": "white",
            "ticks": ""
           },
           "bgcolor": "#E5ECF6",
           "radialaxis": {
            "gridcolor": "white",
            "linecolor": "white",
            "ticks": ""
           }
          },
          "scene": {
           "xaxis": {
            "backgroundcolor": "#E5ECF6",
            "gridcolor": "white",
            "gridwidth": 2,
            "linecolor": "white",
            "showbackground": true,
            "ticks": "",
            "zerolinecolor": "white"
           },
           "yaxis": {
            "backgroundcolor": "#E5ECF6",
            "gridcolor": "white",
            "gridwidth": 2,
            "linecolor": "white",
            "showbackground": true,
            "ticks": "",
            "zerolinecolor": "white"
           },
           "zaxis": {
            "backgroundcolor": "#E5ECF6",
            "gridcolor": "white",
            "gridwidth": 2,
            "linecolor": "white",
            "showbackground": true,
            "ticks": "",
            "zerolinecolor": "white"
           }
          },
          "shapedefaults": {
           "line": {
            "color": "#2a3f5f"
           }
          },
          "ternary": {
           "aaxis": {
            "gridcolor": "white",
            "linecolor": "white",
            "ticks": ""
           },
           "baxis": {
            "gridcolor": "white",
            "linecolor": "white",
            "ticks": ""
           },
           "bgcolor": "#E5ECF6",
           "caxis": {
            "gridcolor": "white",
            "linecolor": "white",
            "ticks": ""
           }
          },
          "title": {
           "x": 0.05
          },
          "xaxis": {
           "automargin": true,
           "gridcolor": "white",
           "linecolor": "white",
           "ticks": "",
           "title": {
            "standoff": 15
           },
           "zerolinecolor": "white",
           "zerolinewidth": 2
          },
          "yaxis": {
           "automargin": true,
           "gridcolor": "white",
           "linecolor": "white",
           "ticks": "",
           "title": {
            "standoff": 15
           },
           "zerolinecolor": "white",
           "zerolinewidth": 2
          }
         }
        },
        "xaxis": {
         "anchor": "y",
         "domain": [
          0,
          1
         ],
         "title": {
          "text": "chord"
         }
        },
        "yaxis": {
         "anchor": "x",
         "domain": [
          0,
          1
         ],
         "title": {
          "text": "count"
         }
        }
       }
      }
     },
     "metadata": {},
     "output_type": "display_data"
    }
   ],
   "source": [
    "fig = px.bar(chord_counts_df, x='chord', y='count', color='count')\n",
    "fig.show()"
   ]
  }
 ],
 "metadata": {
  "kernelspec": {
   "display_name": "Python 3",
   "language": "python",
   "name": "python3"
  },
  "language_info": {
   "codemirror_mode": {
    "name": "ipython",
    "version": 3
   },
   "file_extension": ".py",
   "mimetype": "text/x-python",
   "name": "python",
   "nbconvert_exporter": "python",
   "pygments_lexer": "ipython3",
   "version": "3.10.6"
  },
  "orig_nbformat": 4,
  "vscode": {
   "interpreter": {
    "hash": "bb1cd77efc362c1067be37b2db7d4159e0c7f871d479a5e23c1f1747c4472ddf"
   }
  }
 },
 "nbformat": 4,
 "nbformat_minor": 2
}
